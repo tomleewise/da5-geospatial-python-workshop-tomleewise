{
 "cells": [
  {
   "cell_type": "code",
   "execution_count": 51,
   "id": "8af039f9",
   "metadata": {},
   "outputs": [
    {
     "ename": "ModuleNotFoundError",
     "evalue": "No module named 'bokeh'",
     "output_type": "error",
     "traceback": [
      "\u001b[1;31m---------------------------------------------------------------------------\u001b[0m",
      "\u001b[1;31mModuleNotFoundError\u001b[0m                       Traceback (most recent call last)",
      "\u001b[1;32m~\\AppData\\Local\\Temp/ipykernel_21868/1704951007.py\u001b[0m in \u001b[0;36m<module>\u001b[1;34m\u001b[0m\n\u001b[0;32m      6\u001b[0m \u001b[1;32mfrom\u001b[0m \u001b[0mfolium\u001b[0m\u001b[1;33m.\u001b[0m\u001b[0mplugins\u001b[0m \u001b[1;32mimport\u001b[0m \u001b[0mMarkerCluster\u001b[0m\u001b[1;33m\u001b[0m\u001b[1;33m\u001b[0m\u001b[0m\n\u001b[0;32m      7\u001b[0m \u001b[1;32mfrom\u001b[0m \u001b[0mfolium\u001b[0m\u001b[1;33m.\u001b[0m\u001b[0mplugins\u001b[0m \u001b[1;32mimport\u001b[0m \u001b[0mFastMarkerCluster\u001b[0m\u001b[1;33m\u001b[0m\u001b[1;33m\u001b[0m\u001b[0m\n\u001b[1;32m----> 8\u001b[1;33m \u001b[1;32mfrom\u001b[0m \u001b[0mbokeh\u001b[0m\u001b[1;33m.\u001b[0m\u001b[0mmodels\u001b[0m \u001b[1;32mimport\u001b[0m \u001b[0mHoverTool\u001b[0m\u001b[1;33m\u001b[0m\u001b[1;33m\u001b[0m\u001b[0m\n\u001b[0m",
      "\u001b[1;31mModuleNotFoundError\u001b[0m: No module named 'bokeh'"
     ]
    }
   ],
   "source": [
    "\n",
    "from shapely.geometry import Point\n",
    "import pandas as pd\n",
    "import geopandas as gpd\n",
    "import matplotlib.pyplot as plt\n",
    "import folium\n",
    "from folium.plugins import MarkerCluster\n",
    "from folium.plugins import FastMarkerCluster\n",
    "from bokeh.models import HoverTool"
   ]
  },
  {
   "cell_type": "code",
   "execution_count": null,
   "id": "b8898526",
   "metadata": {},
   "outputs": [],
   "source": [
    "zipcodes = gpd.read_file('../data/zipcodes.geojson')\n",
    "print(zipcodes.crs)\n",
    "zipcodes.head( )"
   ]
  },
  {
   "cell_type": "code",
   "execution_count": null,
   "id": "04ff0be8",
   "metadata": {},
   "outputs": [],
   "source": [
    "type(zipcodes)\n"
   ]
  },
  {
   "cell_type": "code",
   "execution_count": null,
   "id": "d1e96ad1",
   "metadata": {},
   "outputs": [],
   "source": [
    "zipcodes.plot();\n"
   ]
  },
  {
   "cell_type": "code",
   "execution_count": null,
   "id": "f7705b61",
   "metadata": {},
   "outputs": [],
   "source": [
    "leg_kwds = {'title': 'Zipcodes', 'loc': 'upper left', \n",
    "            'bbox_to_anchor': (1, 1.03), 'ncol': 2}\n",
    "\n",
    "zipcodes.plot(column = 'zip', figsize=(10, 10),\n",
    "              edgecolor = 'black',\n",
    "              legend = True, legend_kwds = leg_kwds, \n",
    "              cmap = 'Set3')\n",
    "plt.show()"
   ]
  },
  {
   "cell_type": "code",
   "execution_count": null,
   "id": "7016d1f4",
   "metadata": {},
   "outputs": [],
   "source": [
    "public_art = pd.read_csv('../data/Art_in_Public_Places.csv')\n",
    "print(public_art.shape)\n",
    "public_art.head(3)"
   ]
  },
  {
   "cell_type": "code",
   "execution_count": null,
   "id": "67e9b443",
   "metadata": {},
   "outputs": [],
   "source": [
    "public_art['geometry'] = public_art.apply(lambda x: Point((x.Longitude, \n",
    "                                                         x.Latitude)), \n",
    "                                        axis=1)\n",
    "public_art.head(3)"
   ]
  },
  {
   "cell_type": "code",
   "execution_count": null,
   "id": "72046bfc",
   "metadata": {},
   "outputs": [],
   "source": [
    "zipcodes.crs\n"
   ]
  },
  {
   "cell_type": "code",
   "execution_count": null,
   "id": "d73e248b",
   "metadata": {},
   "outputs": [],
   "source": [
    "art_geo = gpd.GeoDataFrame(public_art, \n",
    "                           crs = zipcodes.crs, \n",
    "                           geometry = public_art['geometry'])"
   ]
  },
  {
   "cell_type": "code",
   "execution_count": null,
   "id": "adc6ce52",
   "metadata": {},
   "outputs": [],
   "source": [
    "type(art_geo)"
   ]
  },
  {
   "cell_type": "code",
   "execution_count": 52,
   "id": "f2f65a08",
   "metadata": {},
   "outputs": [],
   "source": [
    "zipcodes = zipcodes[['zip', 'po_name', 'geometry']]"
   ]
  },
  {
   "cell_type": "code",
   "execution_count": 53,
   "id": "8b175896",
   "metadata": {},
   "outputs": [],
   "source": [
    "art_by_zip = gpd.sjoin(art_geo, zipcodes, op = 'within')\n"
   ]
  },
  {
   "cell_type": "code",
   "execution_count": 54,
   "id": "7bbdf20d",
   "metadata": {},
   "outputs": [
    {
     "data": {
      "text/html": [
       "<div>\n",
       "<style scoped>\n",
       "    .dataframe tbody tr th:only-of-type {\n",
       "        vertical-align: middle;\n",
       "    }\n",
       "\n",
       "    .dataframe tbody tr th {\n",
       "        vertical-align: top;\n",
       "    }\n",
       "\n",
       "    .dataframe thead th {\n",
       "        text-align: right;\n",
       "    }\n",
       "</style>\n",
       "<table border=\"1\" class=\"dataframe\">\n",
       "  <thead>\n",
       "    <tr style=\"text-align: right;\">\n",
       "      <th></th>\n",
       "      <th>Title</th>\n",
       "      <th>Artist Last Name</th>\n",
       "      <th>Artist First Name</th>\n",
       "      <th>Location</th>\n",
       "      <th>Medium</th>\n",
       "      <th>Type</th>\n",
       "      <th>Description</th>\n",
       "      <th>Latitude</th>\n",
       "      <th>Longitude</th>\n",
       "      <th>Mapped Location</th>\n",
       "      <th>geometry</th>\n",
       "      <th>index_right</th>\n",
       "      <th>zip</th>\n",
       "      <th>po_name</th>\n",
       "    </tr>\n",
       "  </thead>\n",
       "  <tbody>\n",
       "    <tr>\n",
       "      <th>0</th>\n",
       "      <td>Les Paul Guitar Mural</td>\n",
       "      <td>Hughes</td>\n",
       "      <td>Milree</td>\n",
       "      <td>100 Broadway, Nashville TN</td>\n",
       "      <td>Painting</td>\n",
       "      <td>Mural</td>\n",
       "      <td>NaN</td>\n",
       "      <td>36.16240</td>\n",
       "      <td>-86.77491</td>\n",
       "      <td>(36.1624, -86.77491)</td>\n",
       "      <td>POINT (-86.77491 36.16240)</td>\n",
       "      <td>36</td>\n",
       "      <td>37201</td>\n",
       "      <td>NASHVILLE</td>\n",
       "    </tr>\n",
       "    <tr>\n",
       "      <th>2</th>\n",
       "      <td>The Flutist</td>\n",
       "      <td>Varo</td>\n",
       "      <td>Marton</td>\n",
       "      <td>1 Symphony Place, Nashville TN</td>\n",
       "      <td>Marble</td>\n",
       "      <td>Sculpture</td>\n",
       "      <td>Statue commemorating Kenneth D Schermerhorn, M...</td>\n",
       "      <td>36.15961</td>\n",
       "      <td>-86.77594</td>\n",
       "      <td>(36.15961, -86.77594)</td>\n",
       "      <td>POINT (-86.77594 36.15961)</td>\n",
       "      <td>36</td>\n",
       "      <td>37201</td>\n",
       "      <td>NASHVILLE</td>\n",
       "    </tr>\n",
       "    <tr>\n",
       "      <th>11</th>\n",
       "      <td>Orpheus and Eurydice</td>\n",
       "      <td>Kaskey</td>\n",
       "      <td>Ray</td>\n",
       "      <td>1 Symphony Place, Nashville TN</td>\n",
       "      <td>Limestone</td>\n",
       "      <td>Sculpture</td>\n",
       "      <td>Relief sculpture above main entrance of Scherm...</td>\n",
       "      <td>36.16017</td>\n",
       "      <td>-86.77575</td>\n",
       "      <td>(36.16017, -86.77575)</td>\n",
       "      <td>POINT (-86.77575 36.16017)</td>\n",
       "      <td>36</td>\n",
       "      <td>37201</td>\n",
       "      <td>NASHVILLE</td>\n",
       "    </tr>\n",
       "    <tr>\n",
       "      <th>21</th>\n",
       "      <td>The Birth of Apollo</td>\n",
       "      <td>Eskridge</td>\n",
       "      <td>Casey</td>\n",
       "      <td>1 Symphony Place, Nashville TN</td>\n",
       "      <td>Bronze sculpture as centerpiece of fountain</td>\n",
       "      <td>Sculpture</td>\n",
       "      <td>Two figures topping a fountain, one with a lyr...</td>\n",
       "      <td>36.15993</td>\n",
       "      <td>-86.77611</td>\n",
       "      <td>(36.15993, -86.77611)</td>\n",
       "      <td>POINT (-86.77611 36.15993)</td>\n",
       "      <td>36</td>\n",
       "      <td>37201</td>\n",
       "      <td>NASHVILLE</td>\n",
       "    </tr>\n",
       "    <tr>\n",
       "      <th>24</th>\n",
       "      <td>The Recording Angel</td>\n",
       "      <td>Flack</td>\n",
       "      <td>Audrey</td>\n",
       "      <td>1 Symphony Place, Nashville TN</td>\n",
       "      <td>Bronze</td>\n",
       "      <td>Sculpture</td>\n",
       "      <td>Bronze angel holding a fountain pen and tablet</td>\n",
       "      <td>36.15920</td>\n",
       "      <td>-86.77571</td>\n",
       "      <td>(36.1592, -86.77571)</td>\n",
       "      <td>POINT (-86.77571 36.15920)</td>\n",
       "      <td>36</td>\n",
       "      <td>37201</td>\n",
       "      <td>NASHVILLE</td>\n",
       "    </tr>\n",
       "  </tbody>\n",
       "</table>\n",
       "</div>"
      ],
      "text/plain": [
       "                    Title Artist Last Name Artist First Name  \\\n",
       "0   Les Paul Guitar Mural           Hughes            Milree   \n",
       "2             The Flutist             Varo            Marton   \n",
       "11   Orpheus and Eurydice           Kaskey               Ray   \n",
       "21    The Birth of Apollo         Eskridge             Casey   \n",
       "24    The Recording Angel            Flack            Audrey   \n",
       "\n",
       "                          Location  \\\n",
       "0       100 Broadway, Nashville TN   \n",
       "2   1 Symphony Place, Nashville TN   \n",
       "11  1 Symphony Place, Nashville TN   \n",
       "21  1 Symphony Place, Nashville TN   \n",
       "24  1 Symphony Place, Nashville TN   \n",
       "\n",
       "                                         Medium       Type  \\\n",
       "0                                      Painting      Mural   \n",
       "2                                        Marble  Sculpture   \n",
       "11                                    Limestone  Sculpture   \n",
       "21  Bronze sculpture as centerpiece of fountain  Sculpture   \n",
       "24                                       Bronze  Sculpture   \n",
       "\n",
       "                                          Description  Latitude  Longitude  \\\n",
       "0                                                 NaN  36.16240  -86.77491   \n",
       "2   Statue commemorating Kenneth D Schermerhorn, M...  36.15961  -86.77594   \n",
       "11  Relief sculpture above main entrance of Scherm...  36.16017  -86.77575   \n",
       "21  Two figures topping a fountain, one with a lyr...  36.15993  -86.77611   \n",
       "24     Bronze angel holding a fountain pen and tablet  36.15920  -86.77571   \n",
       "\n",
       "          Mapped Location                    geometry  index_right    zip  \\\n",
       "0    (36.1624, -86.77491)  POINT (-86.77491 36.16240)           36  37201   \n",
       "2   (36.15961, -86.77594)  POINT (-86.77594 36.15961)           36  37201   \n",
       "11  (36.16017, -86.77575)  POINT (-86.77575 36.16017)           36  37201   \n",
       "21  (36.15993, -86.77611)  POINT (-86.77611 36.15993)           36  37201   \n",
       "24   (36.1592, -86.77571)  POINT (-86.77571 36.15920)           36  37201   \n",
       "\n",
       "      po_name  \n",
       "0   NASHVILLE  \n",
       "2   NASHVILLE  \n",
       "11  NASHVILLE  \n",
       "21  NASHVILLE  \n",
       "24  NASHVILLE  "
      ]
     },
     "execution_count": 54,
     "metadata": {},
     "output_type": "execute_result"
    }
   ],
   "source": [
    "art_by_zip.head()"
   ]
  },
  {
   "cell_type": "code",
   "execution_count": 55,
   "id": "0ce7678e",
   "metadata": {},
   "outputs": [
    {
     "data": {
      "text/html": [
       "<div>\n",
       "<style scoped>\n",
       "    .dataframe tbody tr th:only-of-type {\n",
       "        vertical-align: middle;\n",
       "    }\n",
       "\n",
       "    .dataframe tbody tr th {\n",
       "        vertical-align: top;\n",
       "    }\n",
       "\n",
       "    .dataframe thead th {\n",
       "        text-align: right;\n",
       "    }\n",
       "</style>\n",
       "<table border=\"1\" class=\"dataframe\">\n",
       "  <thead>\n",
       "    <tr style=\"text-align: right;\">\n",
       "      <th></th>\n",
       "      <th>Title</th>\n",
       "      <th>Artist Last Name</th>\n",
       "      <th>Artist First Name</th>\n",
       "      <th>Location</th>\n",
       "      <th>Medium</th>\n",
       "      <th>Type</th>\n",
       "      <th>Description</th>\n",
       "      <th>Latitude</th>\n",
       "      <th>Longitude</th>\n",
       "      <th>geometry</th>\n",
       "      <th>index_right</th>\n",
       "      <th>zip</th>\n",
       "      <th>po_name</th>\n",
       "    </tr>\n",
       "  </thead>\n",
       "  <tbody>\n",
       "    <tr>\n",
       "      <th>0</th>\n",
       "      <td>Les Paul Guitar Mural</td>\n",
       "      <td>Hughes</td>\n",
       "      <td>Milree</td>\n",
       "      <td>100 Broadway, Nashville TN</td>\n",
       "      <td>Painting</td>\n",
       "      <td>Mural</td>\n",
       "      <td>NaN</td>\n",
       "      <td>36.162400</td>\n",
       "      <td>-86.774910</td>\n",
       "      <td>POINT (-86.77491 36.16240)</td>\n",
       "      <td>36</td>\n",
       "      <td>37201</td>\n",
       "      <td>NASHVILLE</td>\n",
       "    </tr>\n",
       "    <tr>\n",
       "      <th>2</th>\n",
       "      <td>The Flutist</td>\n",
       "      <td>Varo</td>\n",
       "      <td>Marton</td>\n",
       "      <td>1 Symphony Place, Nashville TN</td>\n",
       "      <td>Marble</td>\n",
       "      <td>Sculpture</td>\n",
       "      <td>Statue commemorating Kenneth D Schermerhorn, M...</td>\n",
       "      <td>36.159610</td>\n",
       "      <td>-86.775940</td>\n",
       "      <td>POINT (-86.77594 36.15961)</td>\n",
       "      <td>36</td>\n",
       "      <td>37201</td>\n",
       "      <td>NASHVILLE</td>\n",
       "    </tr>\n",
       "    <tr>\n",
       "      <th>11</th>\n",
       "      <td>Orpheus and Eurydice</td>\n",
       "      <td>Kaskey</td>\n",
       "      <td>Ray</td>\n",
       "      <td>1 Symphony Place, Nashville TN</td>\n",
       "      <td>Limestone</td>\n",
       "      <td>Sculpture</td>\n",
       "      <td>Relief sculpture above main entrance of Scherm...</td>\n",
       "      <td>36.160170</td>\n",
       "      <td>-86.775750</td>\n",
       "      <td>POINT (-86.77575 36.16017)</td>\n",
       "      <td>36</td>\n",
       "      <td>37201</td>\n",
       "      <td>NASHVILLE</td>\n",
       "    </tr>\n",
       "    <tr>\n",
       "      <th>21</th>\n",
       "      <td>The Birth of Apollo</td>\n",
       "      <td>Eskridge</td>\n",
       "      <td>Casey</td>\n",
       "      <td>1 Symphony Place, Nashville TN</td>\n",
       "      <td>Bronze sculpture as centerpiece of fountain</td>\n",
       "      <td>Sculpture</td>\n",
       "      <td>Two figures topping a fountain, one with a lyr...</td>\n",
       "      <td>36.159930</td>\n",
       "      <td>-86.776110</td>\n",
       "      <td>POINT (-86.77611 36.15993)</td>\n",
       "      <td>36</td>\n",
       "      <td>37201</td>\n",
       "      <td>NASHVILLE</td>\n",
       "    </tr>\n",
       "    <tr>\n",
       "      <th>24</th>\n",
       "      <td>The Recording Angel</td>\n",
       "      <td>Flack</td>\n",
       "      <td>Audrey</td>\n",
       "      <td>1 Symphony Place, Nashville TN</td>\n",
       "      <td>Bronze</td>\n",
       "      <td>Sculpture</td>\n",
       "      <td>Bronze angel holding a fountain pen and tablet</td>\n",
       "      <td>36.159200</td>\n",
       "      <td>-86.775710</td>\n",
       "      <td>POINT (-86.77571 36.15920)</td>\n",
       "      <td>36</td>\n",
       "      <td>37201</td>\n",
       "      <td>NASHVILLE</td>\n",
       "    </tr>\n",
       "    <tr>\n",
       "      <th>...</th>\n",
       "      <td>...</td>\n",
       "      <td>...</td>\n",
       "      <td>...</td>\n",
       "      <td>...</td>\n",
       "      <td>...</td>\n",
       "      <td>...</td>\n",
       "      <td>...</td>\n",
       "      <td>...</td>\n",
       "      <td>...</td>\n",
       "      <td>...</td>\n",
       "      <td>...</td>\n",
       "      <td>...</td>\n",
       "      <td>...</td>\n",
       "    </tr>\n",
       "    <tr>\n",
       "      <th>100</th>\n",
       "      <td>The Readers</td>\n",
       "      <td>Faxon</td>\n",
       "      <td>Russell</td>\n",
       "      <td>3701 Benham Avenue, Nashville TN</td>\n",
       "      <td>bronze on bronze bench</td>\n",
       "      <td>Sculpture</td>\n",
       "      <td>NaN</td>\n",
       "      <td>36.109970</td>\n",
       "      <td>-86.809240</td>\n",
       "      <td>POINT (-86.80924 36.10997)</td>\n",
       "      <td>44</td>\n",
       "      <td>37215</td>\n",
       "      <td>NASHVILLE</td>\n",
       "    </tr>\n",
       "    <tr>\n",
       "      <th>102</th>\n",
       "      <td>The Peace Monument</td>\n",
       "      <td>Moretti</td>\n",
       "      <td>Giuseppe</td>\n",
       "      <td>3381-3399 Granny White Pike, Nashville TN</td>\n",
       "      <td>Bronze on Carrera marble base</td>\n",
       "      <td>Sculpture</td>\n",
       "      <td>The Ladies Battlefield Association commissione...</td>\n",
       "      <td>36.114650</td>\n",
       "      <td>-86.792330</td>\n",
       "      <td>POINT (-86.79233 36.11465)</td>\n",
       "      <td>44</td>\n",
       "      <td>37215</td>\n",
       "      <td>NASHVILLE</td>\n",
       "    </tr>\n",
       "    <tr>\n",
       "      <th>104</th>\n",
       "      <td>Incline</td>\n",
       "      <td>Sorci</td>\n",
       "      <td>Joe</td>\n",
       "      <td>2 Titans Way, East Bank Greenway, Nashville, TN</td>\n",
       "      <td>Salvaged industrial steel</td>\n",
       "      <td>Sculpture</td>\n",
       "      <td>NaN</td>\n",
       "      <td>36.164161</td>\n",
       "      <td>-86.772318</td>\n",
       "      <td>POINT (-86.77232 36.16416)</td>\n",
       "      <td>31</td>\n",
       "      <td>37213</td>\n",
       "      <td>NASHVILLE</td>\n",
       "    </tr>\n",
       "    <tr>\n",
       "      <th>114</th>\n",
       "      <td>Threshold</td>\n",
       "      <td>Sorci</td>\n",
       "      <td>Joe</td>\n",
       "      <td>2 Titans Way, Nashville TN</td>\n",
       "      <td>Found metal objects</td>\n",
       "      <td>Sculpture</td>\n",
       "      <td>Installation of found industrial metal.</td>\n",
       "      <td>36.165380</td>\n",
       "      <td>-86.773640</td>\n",
       "      <td>POINT (-86.77364 36.16538)</td>\n",
       "      <td>31</td>\n",
       "      <td>37213</td>\n",
       "      <td>NASHVILLE</td>\n",
       "    </tr>\n",
       "    <tr>\n",
       "      <th>128</th>\n",
       "      <td>Rolling Hills</td>\n",
       "      <td>Ulibarri</td>\n",
       "      <td>Jerry</td>\n",
       "      <td>3700 James Kay Lane, Hermitage, TN</td>\n",
       "      <td>Acrylic on canvas</td>\n",
       "      <td>Mural</td>\n",
       "      <td>NaN</td>\n",
       "      <td>36.177040</td>\n",
       "      <td>-86.615640</td>\n",
       "      <td>POINT (-86.61564 36.17704)</td>\n",
       "      <td>46</td>\n",
       "      <td>37076</td>\n",
       "      <td>HERMITAGE</td>\n",
       "    </tr>\n",
       "  </tbody>\n",
       "</table>\n",
       "<p>162 rows × 13 columns</p>\n",
       "</div>"
      ],
      "text/plain": [
       "                     Title Artist Last Name Artist First Name  \\\n",
       "0    Les Paul Guitar Mural           Hughes            Milree   \n",
       "2              The Flutist             Varo            Marton   \n",
       "11    Orpheus and Eurydice           Kaskey               Ray   \n",
       "21     The Birth of Apollo         Eskridge             Casey   \n",
       "24     The Recording Angel            Flack            Audrey   \n",
       "..                     ...              ...               ...   \n",
       "100            The Readers            Faxon           Russell   \n",
       "102     The Peace Monument          Moretti          Giuseppe   \n",
       "104                Incline            Sorci               Joe   \n",
       "114              Threshold            Sorci               Joe   \n",
       "128          Rolling Hills         Ulibarri             Jerry   \n",
       "\n",
       "                                            Location  \\\n",
       "0                         100 Broadway, Nashville TN   \n",
       "2                     1 Symphony Place, Nashville TN   \n",
       "11                    1 Symphony Place, Nashville TN   \n",
       "21                    1 Symphony Place, Nashville TN   \n",
       "24                    1 Symphony Place, Nashville TN   \n",
       "..                                               ...   \n",
       "100                 3701 Benham Avenue, Nashville TN   \n",
       "102        3381-3399 Granny White Pike, Nashville TN   \n",
       "104  2 Titans Way, East Bank Greenway, Nashville, TN   \n",
       "114                       2 Titans Way, Nashville TN   \n",
       "128               3700 James Kay Lane, Hermitage, TN   \n",
       "\n",
       "                                          Medium       Type  \\\n",
       "0                                       Painting      Mural   \n",
       "2                                         Marble  Sculpture   \n",
       "11                                     Limestone  Sculpture   \n",
       "21   Bronze sculpture as centerpiece of fountain  Sculpture   \n",
       "24                                        Bronze  Sculpture   \n",
       "..                                           ...        ...   \n",
       "100                       bronze on bronze bench  Sculpture   \n",
       "102                Bronze on Carrera marble base  Sculpture   \n",
       "104                    Salvaged industrial steel  Sculpture   \n",
       "114                          Found metal objects  Sculpture   \n",
       "128                            Acrylic on canvas      Mural   \n",
       "\n",
       "                                           Description   Latitude  Longitude  \\\n",
       "0                                                  NaN  36.162400 -86.774910   \n",
       "2    Statue commemorating Kenneth D Schermerhorn, M...  36.159610 -86.775940   \n",
       "11   Relief sculpture above main entrance of Scherm...  36.160170 -86.775750   \n",
       "21   Two figures topping a fountain, one with a lyr...  36.159930 -86.776110   \n",
       "24      Bronze angel holding a fountain pen and tablet  36.159200 -86.775710   \n",
       "..                                                 ...        ...        ...   \n",
       "100                                                NaN  36.109970 -86.809240   \n",
       "102  The Ladies Battlefield Association commissione...  36.114650 -86.792330   \n",
       "104                                                NaN  36.164161 -86.772318   \n",
       "114            Installation of found industrial metal.  36.165380 -86.773640   \n",
       "128                                                NaN  36.177040 -86.615640   \n",
       "\n",
       "                       geometry  index_right    zip    po_name  \n",
       "0    POINT (-86.77491 36.16240)           36  37201  NASHVILLE  \n",
       "2    POINT (-86.77594 36.15961)           36  37201  NASHVILLE  \n",
       "11   POINT (-86.77575 36.16017)           36  37201  NASHVILLE  \n",
       "21   POINT (-86.77611 36.15993)           36  37201  NASHVILLE  \n",
       "24   POINT (-86.77571 36.15920)           36  37201  NASHVILLE  \n",
       "..                          ...          ...    ...        ...  \n",
       "100  POINT (-86.80924 36.10997)           44  37215  NASHVILLE  \n",
       "102  POINT (-86.79233 36.11465)           44  37215  NASHVILLE  \n",
       "104  POINT (-86.77232 36.16416)           31  37213  NASHVILLE  \n",
       "114  POINT (-86.77364 36.16538)           31  37213  NASHVILLE  \n",
       "128  POINT (-86.61564 36.17704)           46  37076  HERMITAGE  \n",
       "\n",
       "[162 rows x 13 columns]"
      ]
     },
     "execution_count": 55,
     "metadata": {},
     "output_type": "execute_result"
    }
   ],
   "source": [
    "art_by_zip.drop(['Mapped Location'],axis =1)"
   ]
  },
  {
   "cell_type": "code",
   "execution_count": 56,
   "id": "df771964",
   "metadata": {},
   "outputs": [
    {
     "data": {
      "text/plain": [
       "37219    33\n",
       "37203    25\n",
       "37201    21\n",
       "37210    11\n",
       "37212    10\n",
       "37205    10\n",
       "37206     9\n",
       "37208     7\n",
       "37214     6\n",
       "37221     6\n",
       "37209     4\n",
       "37204     4\n",
       "37115     3\n",
       "37240     2\n",
       "37213     2\n",
       "37215     2\n",
       "37207     2\n",
       "37211     2\n",
       "37216     2\n",
       "37076     1\n",
       "Name: zip, dtype: int64"
      ]
     },
     "execution_count": 56,
     "metadata": {},
     "output_type": "execute_result"
    }
   ],
   "source": [
    "art_by_zip['zip'].value_counts()\n"
   ]
  },
  {
   "cell_type": "code",
   "execution_count": 57,
   "id": "7e2b4763",
   "metadata": {},
   "outputs": [
    {
     "data": {
      "text/plain": [
       "(33, 14)"
      ]
     },
     "execution_count": 57,
     "metadata": {},
     "output_type": "execute_result"
    }
   ],
   "source": [
    "art_in_37219 = art_by_zip.loc[art_by_zip['zip'] == '37219']\n",
    "art_in_37219.shape"
   ]
  },
  {
   "cell_type": "code",
   "execution_count": 58,
   "id": "aa4db561",
   "metadata": {},
   "outputs": [
    {
     "data": {
      "text/plain": [
       "(1, 3)"
      ]
     },
     "execution_count": 58,
     "metadata": {},
     "output_type": "execute_result"
    }
   ],
   "source": [
    "polygon37219 = zipcodes.loc[zipcodes['zip'] == '37219']\n",
    "polygon37219.shape"
   ]
  },
  {
   "cell_type": "code",
   "execution_count": 59,
   "id": "4f404978",
   "metadata": {},
   "outputs": [
    {
     "data": {
      "image/png": "[encoded data removed]",
      "text/plain": [
       "<Figure size 576x720 with 1 Axes>"
      ]
     },
     "metadata": {
      "needs_background": "light"
     },
     "output_type": "display_data"
    }
   ],
   "source": [
    "ax = polygon37219.plot(figsize = (8, 10), color = 'lightgreen')\n",
    "art_in_37219.plot( ax = ax, column = 'Title');\n",
    "plt.show();"
   ]
  },
  {
   "cell_type": "code",
   "execution_count": 60,
   "id": "e92acde3",
   "metadata": {},
   "outputs": [
    {
     "name": "stderr",
     "output_type": "stream",
     "text": [
      "C:\\Users\\tomle\\AppData\\Local\\Temp/ipykernel_21868/1803075763.py:1: UserWarning: Geometry is in a geographic CRS. Results from 'centroid' are likely incorrect. Use 'GeoSeries.to_crs()' to re-project geometries to a projected CRS before this operation.\n",
      "\n",
      "  polygon37219.geometry.centroid\n"
     ]
    },
    {
     "data": {
      "text/plain": [
       "24    POINT (-86.78317 36.16682)\n",
       "dtype: geometry"
      ]
     },
     "execution_count": 60,
     "metadata": {},
     "output_type": "execute_result"
    }
   ],
   "source": [
    "polygon37219.geometry.centroid\n"
   ]
  },
  {
   "cell_type": "code",
   "execution_count": 61,
   "id": "2c468a24",
   "metadata": {},
   "outputs": [
    {
     "name": "stdout",
     "output_type": "stream",
     "text": [
      "24    POINT (-86.78317 36.16682)\n",
      "dtype: geometry\n"
     ]
    },
    {
     "name": "stderr",
     "output_type": "stream",
     "text": [
      "C:\\Users\\tomle\\AppData\\Local\\Temp/ipykernel_21868/4223650497.py:1: UserWarning: Geometry is in a geographic CRS. Results from 'centroid' are likely incorrect. Use 'GeoSeries.to_crs()' to re-project geometries to a projected CRS before this operation.\n",
      "\n",
      "  center = polygon37219.geometry.centroid\n"
     ]
    }
   ],
   "source": [
    "center = polygon37219.geometry.centroid\n",
    "print(center)"
   ]
  },
  {
   "cell_type": "code",
   "execution_count": 62,
   "id": "35624a8b",
   "metadata": {},
   "outputs": [],
   "source": [
    "area_center = [center.y, center.x]"
   ]
  },
  {
   "cell_type": "code",
   "execution_count": 63,
   "id": "83fa2770",
   "metadata": {},
   "outputs": [
    {
     "name": "stdout",
     "output_type": "stream",
     "text": [
      "[24    36.166818\n",
      "dtype: float64, 24   -86.783173\n",
      "dtype: float64]\n"
     ]
    }
   ],
   "source": [
    "print(area_center)"
   ]
  },
  {
   "cell_type": "code",
   "execution_count": 64,
   "id": "e70606f8",
   "metadata": {},
   "outputs": [
    {
     "data": {
      "text/html": [
       "<div style=\"width:100%;\"><div style=\"position:relative;width:100%;height:0;padding-bottom:60%;\"><span style=\"color:#565656\">Make this Notebook Trusted to load map: File -> Trust Notebook</span><iframe src=\"about:blank\" style=\"position:absolute;width:100%;height:100%;left:0;top:0;border:none !important;\" data-html=%3C%21DOCTYPE%20html%3E%0A%3Chead%3E%20%20%20%20%0A%20%20%20%20%3Cmeta%20http-equiv%3D%22content-type%22%20content%3D%22text/html%3B%20charset%3DUTF-8%22%20/%3E%0A%20%20%20%20%0A%20%20%20%20%20%20%20%20%3Cscript%3E%0A%20%20%20%20%20%20%20%20%20%20%20%20L_NO_TOUCH%20%3D%20false%3B%0A%20%20%20%20%20%20%20%20%20%20%20%20L_DISABLE_3D%20%3D%20false%3B%0A%20%20%20%20%20%20%20%20%3C/script%3E%0A%20%20%20%20%0A%20%20%20%20%3Cscript%20src%3D%22https%3A//cdn.jsdelivr.net/npm/leaflet%401.6.0/dist/leaflet.js%22%3E%3C/script%3E%0A%20%20%20%20%3Cscript%20src%3D%22https%3A//code.jquery.com/jquery-1.12.4.min.js%22%3E%3C/script%3E%0A%20%20%20%20%3Cscript%20src%3D%22https%3A//maxcdn.bootstrapcdn.com/bootstrap/3.2.0/js/bootstrap.min.js%22%3E%3C/script%3E%0A%20%20%20%20%3Cscript%20src%3D%22https%3A//cdnjs.cloudflare.com/ajax/libs/Leaflet.awesome-markers/2.0.2/leaflet.awesome-markers.js%22%3E%3C/script%3E%0A%20%20%20%20%3Clink%20rel%3D%22stylesheet%22%20href%3D%22https%3A//cdn.jsdelivr.net/npm/leaflet%401.6.0/dist/leaflet.css%22/%3E%0A%20%20%20%20%3Clink%20rel%3D%22stylesheet%22%20href%3D%22https%3A//maxcdn.bootstrapcdn.com/bootstrap/3.2.0/css/bootstrap.min.css%22/%3E%0A%20%20%20%20%3Clink%20rel%3D%22stylesheet%22%20href%3D%22https%3A//maxcdn.bootstrapcdn.com/bootstrap/3.2.0/css/bootstrap-theme.min.css%22/%3E%0A%20%20%20%20%3Clink%20rel%3D%22stylesheet%22%20href%3D%22https%3A//maxcdn.bootstrapcdn.com/font-awesome/4.6.3/css/font-awesome.min.css%22/%3E%0A%20%20%20%20%3Clink%20rel%3D%22stylesheet%22%20href%3D%22https%3A//cdnjs.cloudflare.com/ajax/libs/Leaflet.awesome-markers/2.0.2/leaflet.awesome-markers.css%22/%3E%0A%20%20%20%20%3Clink%20rel%3D%22stylesheet%22%20href%3D%22https%3A//rawcdn.githack.com/python-visualization/folium/master/folium/templates/leaflet.awesome.rotate.css%22/%3E%0A%20%20%20%20%3Cstyle%3Ehtml%2C%20body%20%7Bwidth%3A%20100%25%3Bheight%3A%20100%25%3Bmargin%3A%200%3Bpadding%3A%200%3B%7D%3C/style%3E%0A%20%20%20%20%3Cstyle%3E%23map%20%7Bposition%3Aabsolute%3Btop%3A0%3Bbottom%3A0%3Bright%3A0%3Bleft%3A0%3B%7D%3C/style%3E%0A%20%20%20%20%0A%20%20%20%20%20%20%20%20%20%20%20%20%3Cmeta%20name%3D%22viewport%22%20content%3D%22width%3Ddevice-width%2C%0A%20%20%20%20%20%20%20%20%20%20%20%20%20%20%20%20initial-scale%3D1.0%2C%20maximum-scale%3D1.0%2C%20user-scalable%3Dno%22%20/%3E%0A%20%20%20%20%20%20%20%20%20%20%20%20%3Cstyle%3E%0A%20%20%20%20%20%20%20%20%20%20%20%20%20%20%20%20%23map_69c39f77c0024f7cae6439b5b575fa25%20%7B%0A%20%20%20%20%20%20%20%20%20%20%20%20%20%20%20%20%20%20%20%20position%3A%20relative%3B%0A%20%20%20%20%20%20%20%20%20%20%20%20%20%20%20%20%20%20%20%20width%3A%20100.0%25%3B%0A%20%20%20%20%20%20%20%20%20%20%20%20%20%20%20%20%20%20%20%20height%3A%20100.0%25%3B%0A%20%20%20%20%20%20%20%20%20%20%20%20%20%20%20%20%20%20%20%20left%3A%200.0%25%3B%0A%20%20%20%20%20%20%20%20%20%20%20%20%20%20%20%20%20%20%20%20top%3A%200.0%25%3B%0A%20%20%20%20%20%20%20%20%20%20%20%20%20%20%20%20%7D%0A%20%20%20%20%20%20%20%20%20%20%20%20%3C/style%3E%0A%20%20%20%20%20%20%20%20%0A%3C/head%3E%0A%3Cbody%3E%20%20%20%20%0A%20%20%20%20%0A%20%20%20%20%20%20%20%20%20%20%20%20%3Cdiv%20class%3D%22folium-map%22%20id%3D%22map_69c39f77c0024f7cae6439b5b575fa25%22%20%3E%3C/div%3E%0A%20%20%20%20%20%20%20%20%0A%3C/body%3E%0A%3Cscript%3E%20%20%20%20%0A%20%20%20%20%0A%20%20%20%20%20%20%20%20%20%20%20%20var%20map_69c39f77c0024f7cae6439b5b575fa25%20%3D%20L.map%28%0A%20%20%20%20%20%20%20%20%20%20%20%20%20%20%20%20%22map_69c39f77c0024f7cae6439b5b575fa25%22%2C%0A%20%20%20%20%20%20%20%20%20%20%20%20%20%20%20%20%7B%0A%20%20%20%20%20%20%20%20%20%20%20%20%20%20%20%20%20%20%20%20center%3A%20%5B36.16681838008157%2C%20-86.783173370701%5D%2C%0A%20%20%20%20%20%20%20%20%20%20%20%20%20%20%20%20%20%20%20%20crs%3A%20L.CRS.EPSG3857%2C%0A%20%20%20%20%20%20%20%20%20%20%20%20%20%20%20%20%20%20%20%20zoom%3A%2012%2C%0A%20%20%20%20%20%20%20%20%20%20%20%20%20%20%20%20%20%20%20%20zoomControl%3A%20true%2C%0A%20%20%20%20%20%20%20%20%20%20%20%20%20%20%20%20%20%20%20%20preferCanvas%3A%20false%2C%0A%20%20%20%20%20%20%20%20%20%20%20%20%20%20%20%20%7D%0A%20%20%20%20%20%20%20%20%20%20%20%20%29%3B%0A%0A%20%20%20%20%20%20%20%20%20%20%20%20%0A%0A%20%20%20%20%20%20%20%20%0A%20%20%20%20%0A%20%20%20%20%20%20%20%20%20%20%20%20var%20tile_layer_dcadc31dbee346bdb5170609ea2851c3%20%3D%20L.tileLayer%28%0A%20%20%20%20%20%20%20%20%20%20%20%20%20%20%20%20%22https%3A//%7Bs%7D.tile.openstreetmap.org/%7Bz%7D/%7Bx%7D/%7By%7D.png%22%2C%0A%20%20%20%20%20%20%20%20%20%20%20%20%20%20%20%20%7B%22attribution%22%3A%20%22Data%20by%20%5Cu0026copy%3B%20%5Cu003ca%20href%3D%5C%22http%3A//openstreetmap.org%5C%22%5Cu003eOpenStreetMap%5Cu003c/a%5Cu003e%2C%20under%20%5Cu003ca%20href%3D%5C%22http%3A//www.openstreetmap.org/copyright%5C%22%5Cu003eODbL%5Cu003c/a%5Cu003e.%22%2C%20%22detectRetina%22%3A%20false%2C%20%22maxNativeZoom%22%3A%2018%2C%20%22maxZoom%22%3A%2018%2C%20%22minZoom%22%3A%200%2C%20%22noWrap%22%3A%20false%2C%20%22opacity%22%3A%201%2C%20%22subdomains%22%3A%20%22abc%22%2C%20%22tms%22%3A%20false%7D%0A%20%20%20%20%20%20%20%20%20%20%20%20%29.addTo%28map_69c39f77c0024f7cae6439b5b575fa25%29%3B%0A%20%20%20%20%20%20%20%20%0A%3C/script%3E onload=\"this.contentDocument.open();this.contentDocument.write(    decodeURIComponent(this.getAttribute('data-html')));this.contentDocument.close();\" allowfullscreen webkitallowfullscreen mozallowfullscreen></iframe></div></div>"
      ],
      "text/plain": [
       "<folium.folium.Map at 0x225a425ebe0>"
      ]
     },
     "execution_count": 64,
     "metadata": {},
     "output_type": "execute_result"
    }
   ],
   "source": [
    "map_37219 = folium.Map(location =  area_center, zoom_start = 12)\n",
    "map_37219"
   ]
  },
  {
   "cell_type": "code",
   "execution_count": 65,
   "id": "b1a861da",
   "metadata": {},
   "outputs": [
    {
     "name": "stdout",
     "output_type": "stream",
     "text": [
      "index is 4\n",
      "values are:\n",
      " \n",
      "Title                                                     Anticipation\n",
      "Artist Last Name                                                 Faxon\n",
      "Artist First Name                                              Russell\n",
      "Location                            505 Deaderick Street, Nashville TN\n",
      "Medium                                                Cold cast bronze\n",
      "Type                                                         Sculpture\n",
      "Description          A statue of a woman with legs crossed sitting ...\n",
      "Latitude                                                      36.16489\n",
      "Longitude                                                    -86.78184\n",
      "Mapped Location                                  (36.16489, -86.78184)\n",
      "geometry                                    POINT (-86.78184 36.16489)\n",
      "index_right                                                         24\n",
      "zip                                                              37219\n",
      "po_name                                                      NASHVILLE\n",
      "Name: 4, dtype: object\n",
      "------------------------- \n",
      "index is 5\n",
      "values are:\n",
      " \n",
      "Title                            Piecing It All Together\n",
      "Artist Last Name                                  Cooper\n",
      "Artist First Name                                Michael\n",
      "Location                 600 Church Street, Nashville TN\n",
      "Medium                                 Painting on Stone\n",
      "Type                                               Mural\n",
      "Description                                          NaN\n",
      "Latitude                                        36.16281\n",
      "Longitude                                      -86.78186\n",
      "Mapped Location                    (36.16281, -86.78186)\n",
      "geometry             POINT (-86.78185999999999 36.16281)\n",
      "index_right                                           24\n",
      "zip                                                37219\n",
      "po_name                                        NASHVILLE\n",
      "Name: 5, dtype: object\n",
      "------------------------- \n",
      "index is 7\n",
      "values are:\n",
      " \n",
      "Title                                                      Chet Atkins\n",
      "Artist Last Name                                                 Faxon\n",
      "Artist First Name                                              Russell\n",
      "Location             Corner of Fifth Avenue North and Union Street,...\n",
      "Medium                     Bronze stool and guitar on a granite plynth\n",
      "Type                                                         Sculpture\n",
      "Description          A sculpture of a young Chet Atkins seated on a...\n",
      "Latitude                                                      36.16466\n",
      "Longitude                                                    -86.78102\n",
      "Mapped Location                                  (36.16466, -86.78102)\n",
      "geometry                                    POINT (-86.78102 36.16466)\n",
      "index_right                                                         24\n",
      "zip                                                              37219\n",
      "po_name                                                      NASHVILLE\n",
      "Name: 7, dtype: object\n",
      "------------------------- \n"
     ]
    }
   ],
   "source": [
    "i = 0\n",
    "for row_index, row_values in art_in_37219.iterrows():\n",
    "    if i <3: \n",
    "        print('index is', row_index)\n",
    "        print('values are:')\n",
    "        print(' ')\n",
    "        print(row_values)\n",
    "        print('------------------------- ')\n",
    "        i+=1"
   ]
  },
  {
   "cell_type": "code",
   "execution_count": 86,
   "id": "d27ba80e",
   "metadata": {
    "scrolled": true
   },
   "outputs": [
    {
     "data": {
      "text/html": [
       "<div style=\"width:100%;\"><div style=\"position:relative;width:100%;height:0;padding-bottom:60%;\"><span style=\"color:#565656\">Make this Notebook Trusted to load map: File -> Trust Notebook</span><iframe src=\"about:blank\" style=\"position:absolute;width:100%;height:100%;left:0;top:0;border:none !important;\" data-html=%3C%21DOCTYPE%20html%3E%0A%3Chead%3E%20%20%20%20%0A%20%20%20%20%3Cmeta%20http-equiv%3D%22content-type%22%20content%3D%22text/html%3B%20charset%3DUTF-8%22%20/%3E%0A%20%20%20%20%0A%20%20%20%20%20%20%20%20%3Cscript%3E%0A%20%20%20%20%20%20%20%20%20%20%20%20L_NO_TOUCH%20%3D%20false%3B%0A%20%20%20%20%20%20%20%20%20%20%20%20L_DISABLE_3D%20%3D%20false%3B%0A%20%20%20%20%20%20%20%20%3C/script%3E%0A%20%20%20%20%0A%20%20%20%20%3Cscript%20src%3D%22https%3A//cdn.jsdelivr.net/npm/leaflet%401.6.0/dist/leaflet.js%22%3E%3C/script%3E%0A%20%20%20%20%3Cscript%20src%3D%22https%3A//code.jquery.com/jquery-1.12.4.min.js%22%3E%3C/script%3E%0A%20%20%20%20%3Cscript%20src%3D%22https%3A//maxcdn.bootstrapcdn.com/bootstrap/3.2.0/js/bootstrap.min.js%22%3E%3C/script%3E%0A%20%20%20%20%3Cscript%20src%3D%22https%3A//cdnjs.cloudflare.com/ajax/libs/Leaflet.awesome-markers/2.0.2/leaflet.awesome-markers.js%22%3E%3C/script%3E%0A%20%20%20%20%3Clink%20rel%3D%22stylesheet%22%20href%3D%22https%3A//cdn.jsdelivr.net/npm/leaflet%401.6.0/dist/leaflet.css%22/%3E%0A%20%20%20%20%3Clink%20rel%3D%22stylesheet%22%20href%3D%22https%3A//maxcdn.bootstrapcdn.com/bootstrap/3.2.0/css/bootstrap.min.css%22/%3E%0A%20%20%20%20%3Clink%20rel%3D%22stylesheet%22%20href%3D%22https%3A//maxcdn.bootstrapcdn.com/bootstrap/3.2.0/css/bootstrap-theme.min.css%22/%3E%0A%20%20%20%20%3Clink%20rel%3D%22stylesheet%22%20href%3D%22https%3A//maxcdn.bootstrapcdn.com/font-awesome/4.6.3/css/font-awesome.min.css%22/%3E%0A%20%20%20%20%3Clink%20rel%3D%22stylesheet%22%20href%3D%22https%3A//cdnjs.cloudflare.com/ajax/libs/Leaflet.awesome-markers/2.0.2/leaflet.awesome-markers.css%22/%3E%0A%20%20%20%20%3Clink%20rel%3D%22stylesheet%22%20href%3D%22https%3A//rawcdn.githack.com/python-visualization/folium/master/folium/templates/leaflet.awesome.rotate.css%22/%3E%0A%20%20%20%20%3Cstyle%3Ehtml%2C%20body%20%7Bwidth%3A%20100%25%3Bheight%3A%20100%25%3Bmargin%3A%200%3Bpadding%3A%200%3B%7D%3C/style%3E%0A%20%20%20%20%3Cstyle%3E%23map%20%7Bposition%3Aabsolute%3Btop%3A0%3Bbottom%3A0%3Bright%3A0%3Bleft%3A0%3B%7D%3C/style%3E%0A%20%20%20%20%0A%20%20%20%20%20%20%20%20%20%20%20%20%3Cmeta%20name%3D%22viewport%22%20content%3D%22width%3Ddevice-width%2C%0A%20%20%20%20%20%20%20%20%20%20%20%20%20%20%20%20initial-scale%3D1.0%2C%20maximum-scale%3D1.0%2C%20user-scalable%3Dno%22%20/%3E%0A%20%20%20%20%20%20%20%20%20%20%20%20%3Cstyle%3E%0A%20%20%20%20%20%20%20%20%20%20%20%20%20%20%20%20%23map_9c6de01c7e04426cbe9be807a5d2d16f%20%7B%0A%20%20%20%20%20%20%20%20%20%20%20%20%20%20%20%20%20%20%20%20position%3A%20relative%3B%0A%20%20%20%20%20%20%20%20%20%20%20%20%20%20%20%20%20%20%20%20width%3A%20100.0%25%3B%0A%20%20%20%20%20%20%20%20%20%20%20%20%20%20%20%20%20%20%20%20height%3A%20100.0%25%3B%0A%20%20%20%20%20%20%20%20%20%20%20%20%20%20%20%20%20%20%20%20left%3A%200.0%25%3B%0A%20%20%20%20%20%20%20%20%20%20%20%20%20%20%20%20%20%20%20%20top%3A%200.0%25%3B%0A%20%20%20%20%20%20%20%20%20%20%20%20%20%20%20%20%7D%0A%20%20%20%20%20%20%20%20%20%20%20%20%3C/style%3E%0A%20%20%20%20%20%20%20%20%0A%3C/head%3E%0A%3Cbody%3E%20%20%20%20%0A%20%20%20%20%0A%20%20%20%20%20%20%20%20%20%20%20%20%3Cdiv%20class%3D%22folium-map%22%20id%3D%22map_9c6de01c7e04426cbe9be807a5d2d16f%22%20%3E%3C/div%3E%0A%20%20%20%20%20%20%20%20%0A%3C/body%3E%0A%3Cscript%3E%20%20%20%20%0A%20%20%20%20%0A%20%20%20%20%20%20%20%20%20%20%20%20var%20map_9c6de01c7e04426cbe9be807a5d2d16f%20%3D%20L.map%28%0A%20%20%20%20%20%20%20%20%20%20%20%20%20%20%20%20%22map_9c6de01c7e04426cbe9be807a5d2d16f%22%2C%0A%20%20%20%20%20%20%20%20%20%20%20%20%20%20%20%20%7B%0A%20%20%20%20%20%20%20%20%20%20%20%20%20%20%20%20%20%20%20%20center%3A%20%5B36.16681838008157%2C%20-86.783173370701%5D%2C%0A%20%20%20%20%20%20%20%20%20%20%20%20%20%20%20%20%20%20%20%20crs%3A%20L.CRS.EPSG3857%2C%0A%20%20%20%20%20%20%20%20%20%20%20%20%20%20%20%20%20%20%20%20zoom%3A%2012%2C%0A%20%20%20%20%20%20%20%20%20%20%20%20%20%20%20%20%20%20%20%20zoomControl%3A%20true%2C%0A%20%20%20%20%20%20%20%20%20%20%20%20%20%20%20%20%20%20%20%20preferCanvas%3A%20false%2C%0A%20%20%20%20%20%20%20%20%20%20%20%20%20%20%20%20%7D%0A%20%20%20%20%20%20%20%20%20%20%20%20%29%3B%0A%0A%20%20%20%20%20%20%20%20%20%20%20%20%0A%0A%20%20%20%20%20%20%20%20%0A%20%20%20%20%0A%20%20%20%20%20%20%20%20%20%20%20%20var%20tile_layer_f9526f8043344728bf75b681dda436f5%20%3D%20L.tileLayer%28%0A%20%20%20%20%20%20%20%20%20%20%20%20%20%20%20%20%22https%3A//%7Bs%7D.tile.openstreetmap.org/%7Bz%7D/%7Bx%7D/%7By%7D.png%22%2C%0A%20%20%20%20%20%20%20%20%20%20%20%20%20%20%20%20%7B%22attribution%22%3A%20%22Data%20by%20%5Cu0026copy%3B%20%5Cu003ca%20href%3D%5C%22http%3A//openstreetmap.org%5C%22%5Cu003eOpenStreetMap%5Cu003c/a%5Cu003e%2C%20under%20%5Cu003ca%20href%3D%5C%22http%3A//www.openstreetmap.org/copyright%5C%22%5Cu003eODbL%5Cu003c/a%5Cu003e.%22%2C%20%22detectRetina%22%3A%20false%2C%20%22maxNativeZoom%22%3A%2018%2C%20%22maxZoom%22%3A%2018%2C%20%22minZoom%22%3A%200%2C%20%22noWrap%22%3A%20false%2C%20%22opacity%22%3A%201%2C%20%22subdomains%22%3A%20%22abc%22%2C%20%22tms%22%3A%20false%7D%0A%20%20%20%20%20%20%20%20%20%20%20%20%29.addTo%28map_9c6de01c7e04426cbe9be807a5d2d16f%29%3B%0A%20%20%20%20%20%20%20%20%0A%20%20%20%20%0A%20%20%20%20%20%20%20%20function%20geo_json_596dad4123f6434aaa2f1d196b9f56a1_onEachFeature%28feature%2C%20layer%29%20%7B%0A%20%20%20%20%20%20%20%20%20%20%20%20layer.on%28%7B%0A%20%20%20%20%20%20%20%20%20%20%20%20%20%20%20%20click%3A%20function%28e%29%20%7B%0A%20%20%20%20%20%20%20%20%20%20%20%20%20%20%20%20%20%20%20%20map_9c6de01c7e04426cbe9be807a5d2d16f.fitBounds%28e.target.getBounds%28%29%29%3B%0A%20%20%20%20%20%20%20%20%20%20%20%20%20%20%20%20%7D%0A%20%20%20%20%20%20%20%20%20%20%20%20%7D%29%3B%0A%20%20%20%20%20%20%20%20%7D%3B%0A%20%20%20%20%20%20%20%20var%20geo_json_596dad4123f6434aaa2f1d196b9f56a1%20%3D%20L.geoJson%28null%2C%20%7B%0A%20%20%20%20%20%20%20%20%20%20%20%20%20%20%20%20onEachFeature%3A%20geo_json_596dad4123f6434aaa2f1d196b9f56a1_onEachFeature%2C%0A%20%20%20%20%20%20%20%20%20%20%20%20%0A%20%20%20%20%20%20%20%20%7D%29.addTo%28map_9c6de01c7e04426cbe9be807a5d2d16f%29%3B%0A%0A%20%20%20%20%20%20%20%20function%20geo_json_596dad4123f6434aaa2f1d196b9f56a1_add%20%28data%29%20%7B%0A%20%20%20%20%20%20%20%20%20%20%20%20geo_json_596dad4123f6434aaa2f1d196b9f56a1.addData%28data%29%3B%0A%20%20%20%20%20%20%20%20%7D%0A%20%20%20%20%20%20%20%20%20%20%20%20geo_json_596dad4123f6434aaa2f1d196b9f56a1_add%28%7B%22bbox%22%3A%20%5B-86.788061782502%2C%2036.160806805858%2C%20-86.777412300774%2C%2036.174645543359%5D%2C%20%22features%22%3A%20%5B%7B%22bbox%22%3A%20%5B-86.788061782502%2C%2036.160806805858%2C%20-86.777412300774%2C%2036.174645543359%5D%2C%20%22geometry%22%3A%20%7B%22coordinates%22%3A%20%5B%5B%5B%5B-86.786094261218%2C%2036.174645543359%5D%2C%20%5B-86.785851293444%2C%2036.174303989094%5D%2C%20%5B-86.785759620278%2C%2036.174337073979%5D%2C%20%5B-86.785516698925%2C%2036.174436765466%5D%2C%20%5B-86.785474891604%2C%2036.174370794259%5D%2C%20%5B-86.785716938975%2C%2036.174271463944%5D%2C%20%5B-86.785586806791%2C%2036.174071424682%5D%2C%20%5B-86.785085027799%2C%2036.174297036477%5D%2C%20%5B-86.785050479057%2C%2036.174313926726%5D%2C%20%5B-86.785046923435%2C%2036.174308779067%5D%2C%20%5B-86.784771972894%2C%2036.173907047209%5D%2C%20%5B-86.784648993389%2C%2036.173705069533%5D%2C%20%5B-86.784410211021%2C%2036.173814888051%5D%2C%20%5B-86.784362775716%2C%2036.173742287381%5D%2C%20%5B-86.784058731609%2C%2036.173269601278%5D%2C%20%5B-86.783747017239%2C%2036.172785080813%5D%2C%20%5B-86.7834476277%2C%2036.172913684891%5D%2C%20%5B-86.783290934251%2C%2036.17267012282%5D%2C%20%5B-86.783311958919%2C%2036.172661091029%5D%2C%20%5B-86.783328625709%2C%2036.172653932058%5D%2C%20%5B-86.78334483633%2C%2036.172646969485%5D%2C%20%5B-86.783378268993%2C%2036.172632607965%5D%2C%20%5B-86.783414066149%2C%2036.172617231271%5D%2C%20%5B-86.783491757224%2C%2036.172583858892%5D%2C%20%5B-86.783498661328%2C%2036.172571925563%5D%2C%20%5B-86.783507796003%2C%2036.172556136436%5D%2C%20%5B-86.783515684943%2C%2036.172542503831%5D%2C%20%5B-86.783526919008%2C%2036.172522155819%5D%2C%20%5B-86.783542965208%2C%2036.172497760697%5D%2C%20%5B-86.783567846176%2C%2036.172458732155%5D%2C%20%5B-86.783575205852%2C%2036.172447187893%5D%2C%20%5B-86.783595620688%2C%2036.172418226588%5D%2C%20%5B-86.783610536228%2C%2036.172397065458%5D%2C%20%5B-86.783626337204%2C%2036.172374647516%5D%2C%20%5B-86.783640219752%2C%2036.172356743787%5D%2C%20%5B-86.783659712328%2C%2036.172331605739%5D%2C%20%5B-86.783702247738%2C%2036.172279095192%5D%2C%20%5B-86.783723332729%2C%2036.17225424611%5D%2C%20%5B-86.78373745218%2C%2036.1722376062%5D%2C%20%5B-86.783755093727%2C%2036.17221852199%5D%2C%20%5B-86.783778798765%2C%2036.172192879266%5D%2C%20%5B-86.783796986434%2C%2036.172173203746%5D%2C%20%5B-86.78382150842%2C%2036.172148805625%5D%2C%20%5B-86.783833590457%2C%2036.172136783709%5D%2C%20%5B-86.783849659507%2C%2036.17212079271%5D%2C%20%5B-86.783867561791%2C%2036.172103599407%5D%2C%20%5B-86.783884532315%2C%2036.172088047803%5D%2C%20%5B-86.783904059586%2C%2036.17207015145%5D%2C%20%5B-86.783925469277%2C%2036.172050530529%5D%2C%20%5B-86.783956224524%2C%2036.172024550103%5D%2C%20%5B-86.783980912706%2C%2036.172003694589%5D%2C%20%5B-86.78399420742%2C%2036.171992464291%5D%2C%20%5B-86.784007558323%2C%2036.171982063471%5D%2C%20%5B-86.784034525627%2C%2036.171961058077%5D%2C%20%5B-86.784047099705%2C%2036.171951262647%5D%2C%20%5B-86.784140103012%2C%2036.171883345553%5D%2C%20%5B-86.784041170246%2C%2036.171731284322%5D%2C%20%5B-86.783489621188%2C%2036.170883534329%5D%2C%20%5B-86.78342003727%2C%2036.170913498109%5D%2C%20%5B-86.783364360975%2C%2036.170934128266%5D%2C%20%5B-86.783163155962%2C%2036.171025543566%5D%2C%20%5B-86.782807034178%2C%2036.171173659031%5D%2C%20%5B-86.782431793724%2C%2036.171338950947%5D%2C%20%5B-86.782363803462%2C%2036.171233602568%5D%2C%20%5B-86.782255893062%2C%2036.171099450015%5D%2C%20%5B-86.782468179763%2C%2036.171009541676%5D%2C%20%5B-86.78258721752%2C%2036.170959125227%5D%2C%20%5B-86.782535596467%2C%2036.170877872492%5D%2C%20%5B-86.782447155956%2C%2036.170739169368%5D%2C%20%5B-86.782113105522%2C%2036.170878137913%5D%2C%20%5B-86.782049547239%2C%2036.170909063962%5D%2C%20%5B-86.781724211118%2C%2036.170402539914%5D%2C%20%5B-86.781788656264%2C%2036.170375328849%5D%2C%20%5B-86.782273848273%2C%2036.170171374385%5D%2C%20%5B-86.78228565693%2C%2036.170166353696%5D%2C%20%5B-86.782311296667%2C%2036.170155472224%5D%2C%20%5B-86.782313002841%2C%2036.170156561711%5D%2C%20%5B-86.782314702165%2C%2036.170157099538%5D%2C%20%5B-86.782318098122%2C%2036.170157902221%5D%2C%20%5B-86.782321155165%2C%2036.170158980091%5D%2C%20%5B-86.782324216574%2C%2036.170159784942%5D%2C%20%5B-86.782327615223%2C%2036.170160860597%5D%2C%20%5B-86.782330673705%2C%2036.170161941319%5D%2C%20%5B-86.782333730886%2C%2036.170162746769%5D%2C%20%5B-86.782337129529%2C%2036.170163821852%5D%2C%20%5B-86.782340190101%2C%2036.170164899698%5D%2C%20%5B-86.782343248584%2C%2036.170165980419%5D%2C%20%5B-86.782346310567%2C%2036.170167058256%5D%2C%20%5B-86.782349369039%2C%2036.170168137833%5D%2C%20%5B-86.78235276498%2C%2036.170168938798%5D%2C%20%5B-86.782355824875%2C%2036.17017001951%5D%2C%20%5B-86.782358885447%2C%2036.170171097355%5D%2C%20%5B-86.782361950151%2C%2036.170172451026%5D%2C%20%5B-86.782365008623%2C%2036.170173530602%5D%2C%20%5B-86.78236806709%2C%2036.170174609606%5D%2C%20%5B-86.782371126957%2C%2036.170175687456%5D%2C%20%5B-86.782374187558%2C%2036.170176768162%5D%2C%20%5B-86.782377248733%2C%2036.170178121856%5D%2C%20%5B-86.782380306483%2C%2036.170179199719%5D%2C%20%5B-86.78238336919%2C%2036.170180279267%5D%2C%20%5B-86.782386431777%2C%2036.170181632951%5D%2C%20%5B-86.782389492362%2C%2036.17018271194%5D%2C%20%5B-86.782392550818%2C%2036.170183789799%5D%2C%20%5B-86.782395615557%2C%2036.170185146902%5D%2C%20%5B-86.782398676699%2C%2036.170186497161%5D%2C%20%5B-86.782401736595%2C%2036.170187577872%5D%2C%20%5B-86.782404799888%2C%2036.17018893155%5D%2C%20%5B-86.78240785835%2C%2036.170190009981%5D%2C%20%5B-86.782410923056%2C%2036.17019136365%5D%2C%20%5B-86.782413645449%2C%2036.170192719538%5D%2C%20%5B-86.782416708743%2C%2036.170194073217%5D%2C%20%5B-86.78241977074%2C%2036.170195152196%5D%2C%20%5B-86.782422830505%2C%2036.170196505897%5D%2C%20%5B-86.782425554311%2C%2036.170197861776%5D%2C%20%5B-86.782428617605%2C%2036.170199215454%5D%2C%20%5B-86.782431680899%2C%2036.170200569132%5D%2C%20%5B-86.782434403294%2C%2036.17020192502%5D%2C%20%5B-86.782437465882%2C%2036.170203278702%5D%2C%20%5B-86.782440527765%2C%2036.170204632389%5D%2C%20%5B-86.782443252277%2C%2036.170205988263%5D%2C%20%5B-86.782446314866%2C%2036.170207341945%5D%2C%20%5B-86.782449040676%2C%2036.170208972517%5D%2C%20%5B-86.782452105382%2C%2036.170210326186%5D%2C%20%5B-86.782454827777%2C%2036.170211682073%5D%2C%20%5B-86.782457888955%2C%2036.170213035764%5D%2C%20%5B-86.782460618299%2C%2036.170214666886%5D%2C%20%5B-86.782463679478%2C%2036.170216020576%5D%2C%20%5B-86.782466406688%2C%2036.170217649995%5D%2C%20%5B-86.782469467866%2C%2036.170219003685%5D%2C%20%5B-86.782472195093%2C%2036.17022063482%5D%2C%20%5B-86.782474919606%2C%2036.170221990693%5D%2C%20%5B-86.782477983493%2C%2036.170223619073%5D%2C%20%5B-86.782480708007%2C%2036.170224974946%5D%2C%20%5B-86.782483435229%2C%2036.170226605509%5D%2C%20%5B-86.782486159742%2C%2036.170227961382%5D%2C%20%5B-86.782489223624%2C%2036.170229589189%5D%2C%20%5B-86.78249195083%2C%2036.170231218034%5D%2C%20%5B-86.782494678075%2C%2036.170232850886%5D%2C%20%5B-86.782497396942%2C%2036.170234206795%5D%2C%20%5B-86.782500126282%2C%2036.170235837343%5D%2C%20%5B-86.782502853505%2C%2036.170237467905%5D%2C%20%5B-86.782505580705%2C%2036.170239096178%5D%2C%20%5B-86.782508307957%2C%2036.170240729601%5D%2C%20%5B-86.782511033045%2C%2036.17024235846%5D%2C%20%5B-86.782513758868%2C%2036.170243990175%5D%2C%20%5B-86.782516486092%2C%2036.170245620737%5D%2C%20%5B-86.78251921331%2C%2036.170247250726%5D%2C%20%5B-86.782521940544%2C%2036.170248882432%5D%2C%20%5B-86.782524665634%2C%2036.170250511291%5D%2C%20%5B-86.782527394166%2C%2036.170252417695%5D%2C%20%5B-86.782530121384%2C%2036.170254047684%5D%2C%20%5B-86.78253284862%2C%2036.17025567939%5D%2C%20%5B-86.782535235632%2C%2036.17025731044%5D%2C%20%5B-86.782537965577%2C%2036.170259216835%5D%2C%20%5B-86.782540691384%2C%2036.170260846834%5D%2C%20%5B-86.782543420595%2C%2036.170262750372%5D%2C%20%5B-86.782545808353%2C%2036.170264385423%5D%2C%20%5B-86.782548534872%2C%2036.170266015988%5D%2C%20%5B-86.782550925322%2C%2036.170267924012%5D%2C%20%5B-86.78255365253%2C%2036.170269552856%5D%2C%20%5B-86.782556382475%2C%2036.170271459251%5D%2C%20%5B-86.782558772221%2C%2036.170273367279%5D%2C%20%5B-86.782561499429%2C%2036.170274996123%5D%2C%20%5B-86.78256388918%2C%2036.170276904723%5D%2C%20%5B-86.782566620532%2C%2036.170278810536%5D%2C%20%5B-86.782569006134%2C%2036.170280441595%5D%2C%20%5B-86.782571395885%2C%2036.170282350195%5D%2C%20%5B-86.782574125826%2C%2036.170284256017%5D%2C%20%5B-86.782576519089%2C%2036.170286162877%5D%2C%20%5B-86.782578902591%2C%2036.170287795666%5D%2C%20%5B-86.782581632532%2C%2036.170289701488%5D%2C%20%5B-86.782584022267%2C%2036.170291608371%5D%2C%20%5B-86.782586417654%2C%2036.17029351579%5D%2C%20%5B-86.782588805272%2C%2036.170295422686%5D%2C%20%5B-86.782591195019%2C%2036.170297330714%5D%2C%20%5B-86.782593584765%2C%2036.170299238741%5D%2C%20%5B-86.782598022158%2C%2036.170302505883%5D%2C%20%5B-86.782613205095%2C%2036.170296089177%5D%2C%20%5B-86.782710151585%2C%2036.170257833688%5D%2C%20%5B-86.782484436459%2C%2036.169902030868%5D%2C%20%5B-86.782367909363%2C%2036.169875619426%5D%2C%20%5B-86.782286143162%2C%2036.169860052707%5D%2C%20%5B-86.782212951698%2C%2036.169836626392%5D%2C%20%5B-86.781927775166%2C%2036.169777488627%5D%2C%20%5B-86.78190080818%2C%2036.169722720185%5D%2C%20%5B-86.781759728564%2C%2036.169433545599%5D%2C%20%5B-86.781768507829%2C%2036.169330529076%5D%2C%20%5B-86.781688958972%2C%2036.169323021693%5D%2C%20%5B-86.781581026038%2C%2036.169312468535%5D%2C%20%5B-86.781589900638%2C%2036.169252789319%5D%2C%20%5B-86.781630424006%2C%2036.168964084398%5D%2C%20%5B-86.781634023426%2C%2036.168572878076%5D%2C%20%5B-86.78158709341%2C%2036.168461066539%5D%2C%20%5B-86.780680207594%2C%2036.168809438886%5D%2C%20%5B-86.780480406348%2C%2036.168498589309%5D%2C%20%5B-86.780600815463%2C%2036.168447705195%5D%2C%20%5B-86.781005159851%2C%2036.168291802859%5D%2C%20%5B-86.780720872906%2C%2036.167806036783%5D%2C%20%5B-86.78028920054%2C%2036.167973378441%5D%2C%20%5B-86.780180242645%2C%2036.168031597889%5D%2C%20%5B-86.780018466339%2C%2036.167779902567%5D%2C%20%5B-86.779976461177%2C%2036.167714593971%5D%2C%20%5B-86.780089012105%2C%2036.167666999816%5D%2C%20%5B-86.780776850545%2C%2036.167400481506%5D%2C%20%5B-86.781224319422%2C%2036.167225707418%5D%2C%20%5B-86.781154590811%2C%2036.167123788487%5D%2C%20%5B-86.780753894451%2C%2036.166452104656%5D%2C%20%5B-86.781347020985%2C%2036.166159601603%5D%2C%20%5B-86.781256816408%2C%2036.166048013932%5D%2C%20%5B-86.781089694473%2C%2036.165796914234%5D%2C%20%5B-86.781618669514%2C%2036.165569326778%5D%2C%20%5B-86.78146114613%2C%2036.165326092998%5D%2C%20%5B-86.780338809699%2C%2036.165817567035%5D%2C%20%5B-86.779899453522%2C%2036.165150349215%5D%2C%20%5B-86.779835882868%2C%2036.165059190848%5D%2C%20%5B-86.779670657386%2C%2036.164802676617%5D%2C%20%5B-86.779600403405%2C%2036.164832430843%5D%2C%20%5B-86.7794566974%2C%2036.164894892898%5D%2C%20%5B-86.779421608237%2C%2036.164840726866%5D%2C%20%5B-86.779321088654%2C%2036.164885330301%5D%2C%20%5B-86.77917871111%2C%2036.16494503637%5D%2C%20%5B-86.779115987516%2C%2036.164974559702%5D%2C%20%5B-86.779054590557%2C%2036.165001329081%5D%2C%20%5B-86.779041336778%2C%2036.16500488968%5D%2C%20%5B-86.778816172264%2C%2036.164658979349%5D%2C%20%5B-86.778796206765%2C%2036.164667391756%5D%2C%20%5B-86.778747895303%2C%2036.16459900317%5D%2C%20%5B-86.778644471263%2C%2036.164436725459%5D%2C%20%5B-86.778618648456%2C%2036.164394282069%5D%2C%20%5B-86.778628241519%2C%2036.164390968331%5D%2C%20%5B-86.778584206636%2C%2036.16432263965%5D%2C%20%5B-86.778598213564%2C%2036.164316434188%5D%2C%20%5B-86.778569534144%2C%2036.164271437839%5D%2C%20%5B-86.778407352549%2C%2036.164031300544%5D%2C%20%5B-86.778401936035%2C%2036.164022995245%5D%2C%20%5B-86.778364152259%2C%2036.163965054744%5D%2C%20%5B-86.778337788028%2C%2036.163976397923%5D%2C%20%5B-86.778304459687%2C%2036.163920877%5D%2C%20%5B-86.778204078948%2C%2036.163766832511%5D%2C%20%5B-86.778126849232%2C%2036.163647072112%5D%2C%20%5B-86.778065104025%2C%2036.16355496416%5D%2C%20%5B-86.777997561667%2C%2036.163453641626%5D%2C%20%5B-86.777933199028%2C%2036.163353326993%5D%2C%20%5B-86.777898299268%2C%2036.163295842766%5D%2C%20%5B-86.777832554758%2C%2036.163200115442%5D%2C%20%5B-86.777832926723%2C%2036.163199973402%5D%2C%20%5B-86.777809334896%2C%2036.163166302658%5D%2C%20%5B-86.777767549974%2C%2036.163103730883%5D%2C%20%5B-86.777732596983%2C%2036.163047633077%5D%2C%20%5B-86.777723539784%2C%2036.16303265979%5D%2C%20%5B-86.77772840681%2C%2036.163020198485%5D%2C%20%5B-86.777673573583%2C%2036.162936090134%5D%2C%20%5B-86.777622444205%2C%2036.162860101826%5D%2C%20%5B-86.777560742685%2C%2036.162772618138%5D%2C%20%5B-86.777485716637%2C%2036.162648361374%5D%2C%20%5B-86.777510416042%2C%2036.162637997444%5D%2C%20%5B-86.778089800939%2C%2036.162387483983%5D%2C%20%5B-86.777794298712%2C%2036.161905445571%5D%2C%20%5B-86.777542381808%2C%2036.161520875728%5D%2C%20%5B-86.777502574098%2C%2036.161462985742%5D%2C%20%5B-86.777412300774%2C%2036.161332041273%5D%2C%20%5B-86.777474765411%2C%2036.161310894456%5D%2C%20%5B-86.777539708709%2C%2036.161282981841%5D%2C%20%5B-86.777527173951%2C%2036.161263707155%5D%2C%20%5B-86.777700032814%2C%2036.161187784201%5D%2C%20%5B-86.777793608244%2C%2036.161333874477%5D%2C%20%5B-86.777807403626%2C%2036.161354306801%5D%2C%20%5B-86.778101184463%2C%2036.161227503513%5D%2C%20%5B-86.7781012941%2C%2036.161227456449%5D%2C%20%5B-86.778118030901%2C%2036.161220149484%5D%2C%20%5B-86.778659449199%2C%2036.160983809009%5D%2C%20%5B-86.778746153399%2C%2036.160946922913%5D%2C%20%5B-86.779349845524%2C%2036.16188007272%5D%2C%20%5B-86.779929378339%2C%2036.161616958009%5D%2C%20%5B-86.780233398149%2C%2036.162073983633%5D%2C%20%5B-86.78023597702%2C%2036.162077858652%5D%2C%20%5B-86.780340346528%2C%2036.162234850025%5D%2C%20%5B-86.780349943442%2C%2036.162229951974%5D%2C%20%5B-86.78059474658%2C%2036.162127330834%5D%2C%20%5B-86.780594881539%2C%2036.162127275019%5D%2C%20%5B-86.780625498603%2C%2036.162140263527%5D%2C%20%5B-86.780762465684%2C%2036.162081964207%5D%2C%20%5B-86.780827575808%2C%2036.162054345202%5D%2C%20%5B-86.780918998141%2C%2036.162015295757%5D%2C%20%5B-86.781002399375%2C%2036.161981344185%5D%2C%20%5B-86.780604743407%2C%2036.161339029153%5D%2C%20%5B-86.781803817902%2C%2036.160806805858%5D%2C%20%5B-86.782658096434%2C%2036.162126504719%5D%2C%20%5B-86.782929169571%2C%2036.162540415858%5D%2C%20%5B-86.78298165497%2C%2036.16251893146%5D%2C%20%5B-86.783057413909%2C%2036.162486713496%5D%2C%20%5B-86.783079024364%2C%2036.162477522807%5D%2C%20%5B-86.78310160964%2C%2036.162467918307%5D%2C%20%5B-86.783170574978%2C%2036.162438588721%5D%2C%20%5B-86.783553803919%2C%2036.162275123713%5D%2C%20%5B-86.783640385683%2C%2036.162238216017%5D%2C%20%5B-86.783800757431%2C%2036.162485593342%5D%2C%20%5B-86.783597661808%2C%2036.162582453766%5D%2C%20%5B-86.783800479%2C%2036.162897659514%5D%2C%20%5B-86.783917168199%2C%2036.162844156622%5D%2C%20%5B-86.78400811061%2C%2036.162805381522%5D%2C%20%5B-86.784231635697%2C%2036.163150106138%5D%2C%20%5B-86.784107378932%2C%2036.1632060433%5D%2C%20%5B-86.784156717808%2C%2036.163293669818%5D%2C%20%5B-86.784525552289%2C%2036.163868681354%5D%2C%20%5B-86.784525568081%2C%2036.16386870815%5D%2C%20%5B-86.784002017927%2C%2036.164094622802%5D%2C%20%5B-86.783947752224%2C%2036.164117226037%5D%2C%20%5B-86.784378341247%2C%2036.164796939874%5D%2C%20%5B-86.785021435323%2C%2036.164543220659%5D%2C%20%5B-86.785606339477%2C%2036.164306991041%5D%2C%20%5B-86.786275826697%2C%2036.164048311627%5D%2C%20%5B-86.786497601141%2C%2036.164387953321%5D%2C%20%5B-86.786517701563%2C%2036.164418736096%5D%2C%20%5B-86.786610975179%2C%2036.164575142498%5D%2C%20%5B-86.786679189095%2C%2036.164689529102%5D%2C%20%5B-86.786814424863%2C%2036.164981955694%5D%2C%20%5B-86.78694112345%2C%2036.165303052581%5D%2C%20%5B-86.787014394696%2C%2036.165574420247%5D%2C%20%5B-86.787051894325%2C%2036.165726747701%5D%2C%20%5B-86.787105970055%2C%2036.16594640487%5D%2C%20%5B-86.787335928861%2C%2036.166880484807%5D%2C%20%5B-86.787442250982%2C%2036.16731235294%5D%2C%20%5B-86.787476001369%2C%2036.16744944295%5D%2C%20%5B-86.787704642637%2C%2036.167587365559%5D%2C%20%5B-86.78775511663%2C%2036.16763785758%5D%2C%20%5B-86.788061782502%2C%2036.168111306041%5D%2C%20%5B-86.787961822993%2C%2036.168201727872%5D%2C%20%5B-86.787944622866%2C%2036.168216455164%5D%2C%20%5B-86.787858885659%2C%2036.16828599329%5D%2C%20%5B-86.78776935698%2C%2036.168352370067%5D%2C%20%5B-86.787676306474%2C%2036.168415445227%5D%2C%20%5B-86.787579834438%2C%2036.168475083045%5D%2C%20%5B-86.787480207938%2C%2036.168531167307%5D%2C%20%5B-86.787377597452%2C%2036.168583592736%5D%2C%20%5B-86.787272172659%2C%2036.168632244326%5D%2C%20%5B-86.787023724153%2C%2036.168737977532%5D%2C%20%5B-86.786953405997%2C%2036.168633085778%5D%2C%20%5B-86.786901821445%2C%2036.168555956355%5D%2C%20%5B-86.786855236182%2C%2036.16847055081%5D%2C%20%5B-86.786837176251%2C%2036.168459952671%5D%2C%20%5B-86.786810135543%2C%2036.168398046811%5D%2C%20%5B-86.786601255467%2C%2036.168071956583%5D%2C%20%5B-86.786599869525%2C%2036.168069494394%5D%2C%20%5B-86.786598830916%2C%2036.16806675409%5D%2C%20%5B-86.786597789383%2C%2036.168064288511%5D%2C%20%5B-86.786597085312%2C%2036.168061546026%5D%2C%20%5B-86.786596379124%2C%2036.168058803555%5D%2C%20%5B-86.786595673643%2C%2036.16805606108%5D%2C%20%5B-86.786595312475%2C%2036.168053590495%5D%2C%20%5B-86.786594945061%2C%2036.168050845816%5D%2C%20%5B-86.786594917832%2C%2036.16804809892%5D%2C%20%5B-86.786594551829%2C%2036.168045354232%5D%2C%20%5B-86.786594863374%2C%2036.168042605128%5D%2C%20%5B-86.786594836145%2C%2036.168039858233%5D%2C%20%5B-86.786595149101%2C%2036.16803710912%5D%2C%20%5B-86.78659545854%2C%2036.168034361174%5D%2C%20%5B-86.786596109564%2C%2036.168031609858%5D%2C%20%5B-86.786596761311%2C%2036.168028860254%5D%2C%20%5B-86.786597748973%2C%2036.168026105027%5D%2C%20%5B-86.786598403415%2C%2036.168023627251%5D%2C%20%5B-86.786599387594%2C%2036.168020876626%5D%2C%20%5B-86.786600724511%2C%2036.168018393257%5D%2C%20%5B-86.78660205157%2C%2036.168015912243%5D%2C%20%5B-86.786603384274%2C%2036.168013431191%5D%2C%20%5B-86.786604713456%2C%2036.168010950735%5D%2C%20%5B-86.786606382805%2C%2036.168008466345%5D%2C%20%5B-86.786608052189%2C%2036.168005985388%5D%2C%20%5B-86.78661006444%2C%2036.168003772899%5D%2C%20%5B-86.786611736512%2C%2036.168001563198%5D%2C%20%5B-86.78661374254%2C%2036.167999078903%5D%2C%20%5B-86.786615754785%2C%2036.167996865841%5D%2C%20%5B-86.786618438471%2C%2036.167994103566%5D%2C%20%5B-86.786622797545%2C%2036.167989679839%5D%2C%20%5B-86.786629835563%2C%2036.167981944454%5D%2C%20%5B-86.786551715652%2C%2036.167910797299%5D%2C%20%5B-86.786439138702%2C%2036.168003559556%5D%2C%20%5B-86.786409734227%2C%2036.168027788037%5D%2C%20%5B-86.786192437085%2C%2036.168151447838%5D%2C%20%5B-86.785997600394%2C%2036.168262599719%5D%2C%20%5B-86.785757999984%2C%2036.168386403961%5D%2C%20%5B-86.785570664463%2C%2036.168485374544%5D%2C%20%5B-86.785345256076%2C%2036.168560096117%5D%2C%20%5B-86.785244856771%2C%2036.168599666204%5D%2C%20%5B-86.785187762495%2C%2036.168622014218%5D%2C%20%5B-86.785116192933%2C%2036.168638786521%5D%2C%20%5B-86.785152273251%2C%2036.168727502603%5D%2C%20%5B-86.785152520982%2C%2036.168727500992%5D%2C%20%5B-86.785153290286%2C%2036.168727495987%5D%2C%20%5B-86.785156675351%2C%2036.168727200977%5D%2C%20%5B-86.785160063116%2C%2036.168727178939%5D%2C%20%5B-86.785163450881%2C%2036.168727156901%5D%2C%20%5B-86.785166841347%2C%2036.168727407836%5D%2C%20%5B-86.785170231841%2C%2036.168727661632%5D%2C%20%5B-86.785173625043%2C%2036.168728188973%5D%2C%20%5B-86.78517702035%2C%2036.168728715155%5D%2C%20%5B-86.785180071257%2C%2036.168729245867%5D%2C%20%5B-86.785183469894%2C%2036.168730322587%5D%2C%20%5B-86.785186527748%2C%2036.168731127389%5D%2C%20%5B-86.785189590344%2C%2036.168732482719%5D%2C%20%5B-86.785192650183%2C%2036.168733559353%5D%2C%20%5B-86.785195713468%2C%2036.168734912962%5D%2C%20%5B-86.785198439288%2C%2036.168736544045%5D%2C%20%5B-86.785201165798%2C%2036.168738173406%5D%2C%20%5B-86.785203893736%2C%2036.168739804476%5D%2C%20%5B-86.785206283493%2C%2036.16874171188%5D%2C%20%5B-86.785208673245%2C%2036.168743618712%5D%2C%20%5B-86.785211063007%2C%2036.168745526688%5D%2C%20%5B-86.785213118818%2C%2036.1687477104%5D%2C%20%5B-86.785215168993%2C%2036.168749895293%5D%2C%20%5B-86.785216890869%2C%2036.168752356456%5D%2C%20%5B-86.785218606491%2C%2036.168754542381%5D%2C%20%5B-86.785220324849%2C%2036.168757004711%5D%2C%20%5B-86.785220674493%2C%2036.168758100694%5D%2C%20%5B-86.785430834521%2C%2036.169076767801%5D%2C%20%5B-86.78548827873%2C%2036.169129960744%5D%2C%20%5B-86.785508882772%2C%2036.16915784622%5D%2C%20%5B-86.785536005921%2C%2036.169193932199%5D%2C%20%5B-86.785562861013%2C%2036.169237161732%5D%2C%20%5B-86.78556354873%2C%2036.16923825494%5D%2C%20%5B-86.785626743999%2C%2036.169332483121%5D%2C%20%5B-86.7853628897%2C%2036.169444767609%5D%2C%20%5B-86.785250886527%2C%2036.16948645575%5D%2C%20%5B-86.785135935579%2C%2036.169524425798%5D%2C%20%5B-86.785019010165%2C%2036.169558316013%5D%2C%20%5B-86.784900420031%2C%2036.16958804139%5D%2C%20%5B-86.784780327686%2C%2036.169613545926%5D%2C%20%5B-86.784659009277%2C%2036.16963477288%5D%2C%20%5B-86.784536632795%2C%2036.169651720585%5D%2C%20%5B-86.784413502359%2C%2036.169664305794%5D%2C%20%5B-86.784373084192%2C%2036.169668900248%5D%2C%20%5B-86.784395496507%2C%2036.169702872084%5D%2C%20%5B-86.784707640786%2C%2036.170176086521%5D%2C%20%5B-86.784877451568%2C%2036.17038879728%5D%2C%20%5B-86.785104157605%2C%2036.170730020578%5D%2C%20%5B-86.785635136296%2C%2036.17154679409%5D%2C%20%5B-86.785969397223%2C%2036.17205671884%5D%2C%20%5B-86.78610021722%2C%2036.172265788303%5D%2C%20%5B-86.786354125461%2C%2036.172644145784%5D%2C%20%5B-86.786463060266%2C%2036.17281009163%5D%2C%20%5B-86.786520424295%2C%2036.172898576407%5D%2C%20%5B-86.786588751811%2C%2036.172873755496%5D%2C%20%5B-86.787125217629%2C%2036.172652812317%5D%2C%20%5B-86.787396249235%2C%2036.173064593087%5D%2C%20%5B-86.787405876307%2C%2036.173079219098%5D%2C%20%5B-86.787435805334%2C%2036.173124689885%5D%2C%20%5B-86.787443303902%2C%2036.173136082513%5D%2C%20%5B-86.787460194505%2C%2036.173161744988%5D%2C%20%5B-86.787477763814%2C%2036.173188438908%5D%2C%20%5B-86.787498910769%2C%2036.173220566995%5D%2C%20%5B-86.787545333502%2C%2036.173291095021%5D%2C%20%5B-86.787602867014%2C%2036.173378505675%5D%2C%20%5B-86.787692877777%2C%2036.173515258069%5D%2C%20%5B-86.787739093745%2C%2036.173585472598%5D%2C%20%5B-86.787790608248%2C%2036.173663737497%5D%2C%20%5B-86.787766753859%2C%2036.173673327075%5D%2C%20%5B-86.787623666793%2C%2036.173730850451%5D%2C%20%5B-86.787698052409%2C%2036.173851785519%5D%2C%20%5B-86.78734174092%2C%2036.174001353093%5D%2C%20%5B-86.787255507642%2C%2036.174033883413%5D%2C%20%5B-86.787436566843%2C%2036.174314871029%5D%2C%20%5B-86.786094261218%2C%2036.174645543359%5D%5D%5D%5D%2C%20%22type%22%3A%20%22MultiPolygon%22%7D%2C%20%22id%22%3A%20%2224%22%2C%20%22properties%22%3A%20%7B%22po_name%22%3A%20%22NASHVILLE%22%2C%20%22zip%22%3A%20%2237219%22%7D%2C%20%22type%22%3A%20%22Feature%22%7D%5D%2C%20%22type%22%3A%20%22FeatureCollection%22%7D%29%3B%0A%20%20%20%20%20%20%20%20%0A%20%20%20%20%0A%20%20%20%20%20%20%20%20%20%20%20%20var%20marker_b4d68dd7b79e4bdcbd826f8061f56294%20%3D%20L.marker%28%0A%20%20%20%20%20%20%20%20%20%20%20%20%20%20%20%20%5B36.16489%2C%20-86.78184%5D%2C%0A%20%20%20%20%20%20%20%20%20%20%20%20%20%20%20%20%7B%7D%0A%20%20%20%20%20%20%20%20%20%20%20%20%29.addTo%28map_9c6de01c7e04426cbe9be807a5d2d16f%29%3B%0A%20%20%20%20%20%20%20%20%0A%20%20%20%20%0A%20%20%20%20%20%20%20%20%20%20%20%20var%20icon_426dbe1d78b9437aac458faa06697a80%20%3D%20L.AwesomeMarkers.icon%28%0A%20%20%20%20%20%20%20%20%20%20%20%20%20%20%20%20%7B%22extraClasses%22%3A%20%22fa-rotate-0%22%2C%20%22icon%22%3A%20%22paint-brush%22%2C%20%22iconColor%22%3A%20%22white%22%2C%20%22markerColor%22%3A%20%22red%22%2C%20%22prefix%22%3A%20%22fa%22%7D%0A%20%20%20%20%20%20%20%20%20%20%20%20%29%3B%0A%20%20%20%20%20%20%20%20%20%20%20%20marker_b4d68dd7b79e4bdcbd826f8061f56294.setIcon%28icon_426dbe1d78b9437aac458faa06697a80%29%3B%0A%20%20%20%20%20%20%20%20%0A%20%20%20%20%0A%20%20%20%20%20%20%20%20var%20popup_0752da8dd37e41ffaa0a826e98de5ebf%20%3D%20L.popup%28%7B%22maxWidth%22%3A%20%22100%25%22%7D%29%3B%0A%0A%20%20%20%20%20%20%20%20%0A%20%20%20%20%20%20%20%20%20%20%20%20var%20html_5a7ed6fd189a4979be3ebc8d39c9365d%20%3D%20%24%28%60%3Cdiv%20id%3D%22html_5a7ed6fd189a4979be3ebc8d39c9365d%22%20style%3D%22width%3A%20100.0%25%3B%20height%3A%20100.0%25%3B%22%3E%28%27Anticipation%27%2C%20%27A%20statue%20of%20a%20woman%20with%20legs%20crossed%20sitting%20on%20a%20bench%20and%20leaning%20forward.%27%29%3C/div%3E%60%29%5B0%5D%3B%0A%20%20%20%20%20%20%20%20%20%20%20%20popup_0752da8dd37e41ffaa0a826e98de5ebf.setContent%28html_5a7ed6fd189a4979be3ebc8d39c9365d%29%3B%0A%20%20%20%20%20%20%20%20%0A%0A%20%20%20%20%20%20%20%20marker_b4d68dd7b79e4bdcbd826f8061f56294.bindPopup%28popup_0752da8dd37e41ffaa0a826e98de5ebf%29%0A%20%20%20%20%20%20%20%20%3B%0A%0A%20%20%20%20%20%20%20%20%0A%20%20%20%20%0A%20%20%20%20%0A%20%20%20%20%20%20%20%20%20%20%20%20var%20marker_d9143bf15b034fdda619e00dd4fe61f8%20%3D%20L.marker%28%0A%20%20%20%20%20%20%20%20%20%20%20%20%20%20%20%20%5B36.16281%2C%20-86.78186%5D%2C%0A%20%20%20%20%20%20%20%20%20%20%20%20%20%20%20%20%7B%7D%0A%20%20%20%20%20%20%20%20%20%20%20%20%29.addTo%28map_9c6de01c7e04426cbe9be807a5d2d16f%29%3B%0A%20%20%20%20%20%20%20%20%0A%20%20%20%20%0A%20%20%20%20%20%20%20%20%20%20%20%20var%20icon_1e6a24b2649644b6bae7cff18aebc2d0%20%3D%20L.AwesomeMarkers.icon%28%0A%20%20%20%20%20%20%20%20%20%20%20%20%20%20%20%20%7B%22extraClasses%22%3A%20%22fa-rotate-0%22%2C%20%22icon%22%3A%20%22paint-brush%22%2C%20%22iconColor%22%3A%20%22white%22%2C%20%22markerColor%22%3A%20%22red%22%2C%20%22prefix%22%3A%20%22fa%22%7D%0A%20%20%20%20%20%20%20%20%20%20%20%20%29%3B%0A%20%20%20%20%20%20%20%20%20%20%20%20marker_d9143bf15b034fdda619e00dd4fe61f8.setIcon%28icon_1e6a24b2649644b6bae7cff18aebc2d0%29%3B%0A%20%20%20%20%20%20%20%20%0A%20%20%20%20%0A%20%20%20%20%20%20%20%20var%20popup_d35b3ad541124df69080e05a8701f804%20%3D%20L.popup%28%7B%22maxWidth%22%3A%20%22100%25%22%7D%29%3B%0A%0A%20%20%20%20%20%20%20%20%0A%20%20%20%20%20%20%20%20%20%20%20%20var%20html_b9b3f6a7fa2f4c6ab6b07da1a9ef3ed6%20%3D%20%24%28%60%3Cdiv%20id%3D%22html_b9b3f6a7fa2f4c6ab6b07da1a9ef3ed6%22%20style%3D%22width%3A%20100.0%25%3B%20height%3A%20100.0%25%3B%22%3E%28%27Piecing%20It%20All%20Together%27%2C%20%27nan%27%29%3C/div%3E%60%29%5B0%5D%3B%0A%20%20%20%20%20%20%20%20%20%20%20%20popup_d35b3ad541124df69080e05a8701f804.setContent%28html_b9b3f6a7fa2f4c6ab6b07da1a9ef3ed6%29%3B%0A%20%20%20%20%20%20%20%20%0A%0A%20%20%20%20%20%20%20%20marker_d9143bf15b034fdda619e00dd4fe61f8.bindPopup%28popup_d35b3ad541124df69080e05a8701f804%29%0A%20%20%20%20%20%20%20%20%3B%0A%0A%20%20%20%20%20%20%20%20%0A%20%20%20%20%0A%20%20%20%20%0A%20%20%20%20%20%20%20%20%20%20%20%20var%20marker_b5f0163fc2e641399a84c14d410dd0b1%20%3D%20L.marker%28%0A%20%20%20%20%20%20%20%20%20%20%20%20%20%20%20%20%5B36.16466%2C%20-86.78102%5D%2C%0A%20%20%20%20%20%20%20%20%20%20%20%20%20%20%20%20%7B%7D%0A%20%20%20%20%20%20%20%20%20%20%20%20%29.addTo%28map_9c6de01c7e04426cbe9be807a5d2d16f%29%3B%0A%20%20%20%20%20%20%20%20%0A%20%20%20%20%0A%20%20%20%20%20%20%20%20%20%20%20%20var%20icon_6b407b2392c0478080a54cc6b1940bd9%20%3D%20L.AwesomeMarkers.icon%28%0A%20%20%20%20%20%20%20%20%20%20%20%20%20%20%20%20%7B%22extraClasses%22%3A%20%22fa-rotate-0%22%2C%20%22icon%22%3A%20%22paint-brush%22%2C%20%22iconColor%22%3A%20%22white%22%2C%20%22markerColor%22%3A%20%22red%22%2C%20%22prefix%22%3A%20%22fa%22%7D%0A%20%20%20%20%20%20%20%20%20%20%20%20%29%3B%0A%20%20%20%20%20%20%20%20%20%20%20%20marker_b5f0163fc2e641399a84c14d410dd0b1.setIcon%28icon_6b407b2392c0478080a54cc6b1940bd9%29%3B%0A%20%20%20%20%20%20%20%20%0A%20%20%20%20%0A%20%20%20%20%20%20%20%20var%20popup_211549e74114450cb10a60a6875cdff1%20%3D%20L.popup%28%7B%22maxWidth%22%3A%20%22100%25%22%7D%29%3B%0A%0A%20%20%20%20%20%20%20%20%0A%20%20%20%20%20%20%20%20%20%20%20%20var%20html_475808acb0a24a5792c48b1b45384e43%20%3D%20%24%28%60%3Cdiv%20id%3D%22html_475808acb0a24a5792c48b1b45384e43%22%20style%3D%22width%3A%20100.0%25%3B%20height%3A%20100.0%25%3B%22%3E%28%27Chet%20Atkins%27%2C%20%27A%20sculpture%20of%20a%20young%20Chet%20Atkins%20seated%20on%20a%20stool%20and%20playing%20the%20guitar.%27%29%3C/div%3E%60%29%5B0%5D%3B%0A%20%20%20%20%20%20%20%20%20%20%20%20popup_211549e74114450cb10a60a6875cdff1.setContent%28html_475808acb0a24a5792c48b1b45384e43%29%3B%0A%20%20%20%20%20%20%20%20%0A%0A%20%20%20%20%20%20%20%20marker_b5f0163fc2e641399a84c14d410dd0b1.bindPopup%28popup_211549e74114450cb10a60a6875cdff1%29%0A%20%20%20%20%20%20%20%20%3B%0A%0A%20%20%20%20%20%20%20%20%0A%20%20%20%20%0A%20%20%20%20%0A%20%20%20%20%20%20%20%20%20%20%20%20var%20marker_ff5c5ab98f924d4c8cf369b974818da8%20%3D%20L.marker%28%0A%20%20%20%20%20%20%20%20%20%20%20%20%20%20%20%20%5B36.16527%2C%20-86.78382%5D%2C%0A%20%20%20%20%20%20%20%20%20%20%20%20%20%20%20%20%7B%7D%0A%20%20%20%20%20%20%20%20%20%20%20%20%29.addTo%28map_9c6de01c7e04426cbe9be807a5d2d16f%29%3B%0A%20%20%20%20%20%20%20%20%0A%20%20%20%20%0A%20%20%20%20%20%20%20%20%20%20%20%20var%20icon_4592c7425d9d47ae9b0dc637c7d8aad6%20%3D%20L.AwesomeMarkers.icon%28%0A%20%20%20%20%20%20%20%20%20%20%20%20%20%20%20%20%7B%22extraClasses%22%3A%20%22fa-rotate-0%22%2C%20%22icon%22%3A%20%22paint-brush%22%2C%20%22iconColor%22%3A%20%22white%22%2C%20%22markerColor%22%3A%20%22red%22%2C%20%22prefix%22%3A%20%22fa%22%7D%0A%20%20%20%20%20%20%20%20%20%20%20%20%29%3B%0A%20%20%20%20%20%20%20%20%20%20%20%20marker_ff5c5ab98f924d4c8cf369b974818da8.setIcon%28icon_4592c7425d9d47ae9b0dc637c7d8aad6%29%3B%0A%20%20%20%20%20%20%20%20%0A%20%20%20%20%0A%20%20%20%20%20%20%20%20var%20popup_a6e1e4a76bb14d7e96ba6e3aca19062a%20%3D%20L.popup%28%7B%22maxWidth%22%3A%20%22100%25%22%7D%29%3B%0A%0A%20%20%20%20%20%20%20%20%0A%20%20%20%20%20%20%20%20%20%20%20%20var%20html_fead9ba11e0c4abaabe29fe735c991a4%20%3D%20%24%28%60%3Cdiv%20id%3D%22html_fead9ba11e0c4abaabe29fe735c991a4%22%20style%3D%22width%3A%20100.0%25%3B%20height%3A%20100.0%25%3B%22%3E%28%27Women%20Suffrage%20Memorial%27%2C%20%27nan%27%29%3C/div%3E%60%29%5B0%5D%3B%0A%20%20%20%20%20%20%20%20%20%20%20%20popup_a6e1e4a76bb14d7e96ba6e3aca19062a.setContent%28html_fead9ba11e0c4abaabe29fe735c991a4%29%3B%0A%20%20%20%20%20%20%20%20%0A%0A%20%20%20%20%20%20%20%20marker_ff5c5ab98f924d4c8cf369b974818da8.bindPopup%28popup_a6e1e4a76bb14d7e96ba6e3aca19062a%29%0A%20%20%20%20%20%20%20%20%3B%0A%0A%20%20%20%20%20%20%20%20%0A%20%20%20%20%0A%20%20%20%20%0A%20%20%20%20%20%20%20%20%20%20%20%20var%20marker_14232dc16b6543038a7e1d5a13b43e45%20%3D%20L.marker%28%0A%20%20%20%20%20%20%20%20%20%20%20%20%20%20%20%20%5B36.16215%2C%20-86.78205%5D%2C%0A%20%20%20%20%20%20%20%20%20%20%20%20%20%20%20%20%7B%7D%0A%20%20%20%20%20%20%20%20%20%20%20%20%29.addTo%28map_9c6de01c7e04426cbe9be807a5d2d16f%29%3B%0A%20%20%20%20%20%20%20%20%0A%20%20%20%20%0A%20%20%20%20%20%20%20%20%20%20%20%20var%20icon_4ee0654b85604dc0b8f7a9428b44a7b0%20%3D%20L.AwesomeMarkers.icon%28%0A%20%20%20%20%20%20%20%20%20%20%20%20%20%20%20%20%7B%22extraClasses%22%3A%20%22fa-rotate-0%22%2C%20%22icon%22%3A%20%22paint-brush%22%2C%20%22iconColor%22%3A%20%22white%22%2C%20%22markerColor%22%3A%20%22red%22%2C%20%22prefix%22%3A%20%22fa%22%7D%0A%20%20%20%20%20%20%20%20%20%20%20%20%29%3B%0A%20%20%20%20%20%20%20%20%20%20%20%20marker_14232dc16b6543038a7e1d5a13b43e45.setIcon%28icon_4ee0654b85604dc0b8f7a9428b44a7b0%29%3B%0A%20%20%20%20%20%20%20%20%0A%20%20%20%20%0A%20%20%20%20%20%20%20%20var%20popup_791f5cdb3cc8474caeed5996a2a42f5d%20%3D%20L.popup%28%7B%22maxWidth%22%3A%20%22100%25%22%7D%29%3B%0A%0A%20%20%20%20%20%20%20%20%0A%20%20%20%20%20%20%20%20%20%20%20%20var%20html_880512aac09d4db58e55766b7dc44a6e%20%3D%20%24%28%60%3Cdiv%20id%3D%22html_880512aac09d4db58e55766b7dc44a6e%22%20style%3D%22width%3A%20100.0%25%3B%20height%3A%20100.0%25%3B%22%3E%28%27Foliated%20Scroll%27%2C%20%27a%20contemporary%20adaptation%20of%20a%20classical%20foliated%20scroll%20motif.%20%20Inspired%20by%2019th%20century%20Beaux%20Arts%20students%20picturing%20ornament%20from%20the%20ancient%20temple%20of%20Jupiter.%20%20It%20is%20composed%20of%20an%20undulating%20%22palmette%22%20and%20spiral%20repetition%20with%20leAvenues%2C%20flowers%2C%20and%20scrolls.%20%20It%20is%20situated%2040%20feet%20off%20the%20ground%20below%20the%20windows%20on%20the%20library%5C%27s%20North%20fa%C3%A7ade.%27%29%3C/div%3E%60%29%5B0%5D%3B%0A%20%20%20%20%20%20%20%20%20%20%20%20popup_791f5cdb3cc8474caeed5996a2a42f5d.setContent%28html_880512aac09d4db58e55766b7dc44a6e%29%3B%0A%20%20%20%20%20%20%20%20%0A%0A%20%20%20%20%20%20%20%20marker_14232dc16b6543038a7e1d5a13b43e45.bindPopup%28popup_791f5cdb3cc8474caeed5996a2a42f5d%29%0A%20%20%20%20%20%20%20%20%3B%0A%0A%20%20%20%20%20%20%20%20%0A%20%20%20%20%0A%20%20%20%20%0A%20%20%20%20%20%20%20%20%20%20%20%20var%20marker_240aaceafbd8408482501a6f9efda0a4%20%3D%20L.marker%28%0A%20%20%20%20%20%20%20%20%20%20%20%20%20%20%20%20%5B36.1656%2C%20-86.78275%5D%2C%0A%20%20%20%20%20%20%20%20%20%20%20%20%20%20%20%20%7B%7D%0A%20%20%20%20%20%20%20%20%20%20%20%20%29.addTo%28map_9c6de01c7e04426cbe9be807a5d2d16f%29%3B%0A%20%20%20%20%20%20%20%20%0A%20%20%20%20%0A%20%20%20%20%20%20%20%20%20%20%20%20var%20icon_ccc938bfcd56429eb5f10de1419768c9%20%3D%20L.AwesomeMarkers.icon%28%0A%20%20%20%20%20%20%20%20%20%20%20%20%20%20%20%20%7B%22extraClasses%22%3A%20%22fa-rotate-0%22%2C%20%22icon%22%3A%20%22paint-brush%22%2C%20%22iconColor%22%3A%20%22white%22%2C%20%22markerColor%22%3A%20%22red%22%2C%20%22prefix%22%3A%20%22fa%22%7D%0A%20%20%20%20%20%20%20%20%20%20%20%20%29%3B%0A%20%20%20%20%20%20%20%20%20%20%20%20marker_240aaceafbd8408482501a6f9efda0a4.setIcon%28icon_ccc938bfcd56429eb5f10de1419768c9%29%3B%0A%20%20%20%20%20%20%20%20%0A%20%20%20%20%0A%20%20%20%20%20%20%20%20var%20popup_64a3bc2e25074bb69c5b067f26d3f3d8%20%3D%20L.popup%28%7B%22maxWidth%22%3A%20%22100%25%22%7D%29%3B%0A%0A%20%20%20%20%20%20%20%20%0A%20%20%20%20%20%20%20%20%20%20%20%20var%20html_5dc8977157b44e2d99fc32a916a480f3%20%3D%20%24%28%60%3Cdiv%20id%3D%22html_5dc8977157b44e2d99fc32a916a480f3%22%20style%3D%22width%3A%20100.0%25%3B%20height%3A%20100.0%25%3B%22%3E%28%27Sergeant%20Alvin%20C.%20York%27%2C%20%22A%20full%20length%20portrait%20of%20Sergeant%20Alvin%20C.%20York%2C%20a%20WWI%20soldier.%20He%20stands%20with%20feet%20wide%20apart%20and%20has%20a%20rifle%20raised%20to%20his%20proper%20right%20shoulder%20as%20if%20he%27s%20about%20to%20shoot.%20He%20wears%20a%20combat%20uniform%20which%20includes%20a%20helmet%2C%20boots%2C%20wrapped%20leg%20coverings%22%29%3C/div%3E%60%29%5B0%5D%3B%0A%20%20%20%20%20%20%20%20%20%20%20%20popup_64a3bc2e25074bb69c5b067f26d3f3d8.setContent%28html_5dc8977157b44e2d99fc32a916a480f3%29%3B%0A%20%20%20%20%20%20%20%20%0A%0A%20%20%20%20%20%20%20%20marker_240aaceafbd8408482501a6f9efda0a4.bindPopup%28popup_64a3bc2e25074bb69c5b067f26d3f3d8%29%0A%20%20%20%20%20%20%20%20%3B%0A%0A%20%20%20%20%20%20%20%20%0A%20%20%20%20%0A%20%20%20%20%0A%20%20%20%20%20%20%20%20%20%20%20%20var%20marker_f3662af1f28c4214b65ee11dceb43af0%20%3D%20L.marker%28%0A%20%20%20%20%20%20%20%20%20%20%20%20%20%20%20%20%5B36.16215%2C%20-86.78205%5D%2C%0A%20%20%20%20%20%20%20%20%20%20%20%20%20%20%20%20%7B%7D%0A%20%20%20%20%20%20%20%20%20%20%20%20%29.addTo%28map_9c6de01c7e04426cbe9be807a5d2d16f%29%3B%0A%20%20%20%20%20%20%20%20%0A%20%20%20%20%0A%20%20%20%20%20%20%20%20%20%20%20%20var%20icon_a785962f0e644e56802f6f57e063de55%20%3D%20L.AwesomeMarkers.icon%28%0A%20%20%20%20%20%20%20%20%20%20%20%20%20%20%20%20%7B%22extraClasses%22%3A%20%22fa-rotate-0%22%2C%20%22icon%22%3A%20%22paint-brush%22%2C%20%22iconColor%22%3A%20%22white%22%2C%20%22markerColor%22%3A%20%22red%22%2C%20%22prefix%22%3A%20%22fa%22%7D%0A%20%20%20%20%20%20%20%20%20%20%20%20%29%3B%0A%20%20%20%20%20%20%20%20%20%20%20%20marker_f3662af1f28c4214b65ee11dceb43af0.setIcon%28icon_a785962f0e644e56802f6f57e063de55%29%3B%0A%20%20%20%20%20%20%20%20%0A%20%20%20%20%0A%20%20%20%20%20%20%20%20var%20popup_31b314b12a9341f9aef1509140bcd249%20%3D%20L.popup%28%7B%22maxWidth%22%3A%20%22100%25%22%7D%29%3B%0A%0A%20%20%20%20%20%20%20%20%0A%20%20%20%20%20%20%20%20%20%20%20%20var%20html_e4327c25b849468c80bb10ffe976d718%20%3D%20%24%28%60%3Cdiv%20id%3D%22html_e4327c25b849468c80bb10ffe976d718%22%20style%3D%22width%3A%20100.0%25%3B%20height%3A%20100.0%25%3B%22%3E%28%27Nashville%2C%20A%20History%20through%20Maps%20and%20Aerial%20Views%27%2C%20%27Eight%20scenes%20showing%20the%20development%20of%20Nashville%20from%201800%20to%202001.%20%20Inspired%20by%20The%20Gallery%20of%20Maps%20in%20the%20Vatican%20commissioned%20in%201580%20by%20Pope%20Gregory%20XIII.%20%20The%20mural%20culminates%20in%20a%20half%20medallion%20above%20the%20entry%20doors.%27%29%3C/div%3E%60%29%5B0%5D%3B%0A%20%20%20%20%20%20%20%20%20%20%20%20popup_31b314b12a9341f9aef1509140bcd249.setContent%28html_e4327c25b849468c80bb10ffe976d718%29%3B%0A%20%20%20%20%20%20%20%20%0A%0A%20%20%20%20%20%20%20%20marker_f3662af1f28c4214b65ee11dceb43af0.bindPopup%28popup_31b314b12a9341f9aef1509140bcd249%29%0A%20%20%20%20%20%20%20%20%3B%0A%0A%20%20%20%20%20%20%20%20%0A%20%20%20%20%0A%20%20%20%20%0A%20%20%20%20%20%20%20%20%20%20%20%20var%20marker_48ff8b0e01ff44e8955ffbf04869e0f7%20%3D%20L.marker%28%0A%20%20%20%20%20%20%20%20%20%20%20%20%20%20%20%20%5B36.17317%2C%20-86.78512%5D%2C%0A%20%20%20%20%20%20%20%20%20%20%20%20%20%20%20%20%7B%7D%0A%20%20%20%20%20%20%20%20%20%20%20%20%29.addTo%28map_9c6de01c7e04426cbe9be807a5d2d16f%29%3B%0A%20%20%20%20%20%20%20%20%0A%20%20%20%20%0A%20%20%20%20%20%20%20%20%20%20%20%20var%20icon_7083c69b2ed54e99952666887ac1dc7c%20%3D%20L.AwesomeMarkers.icon%28%0A%20%20%20%20%20%20%20%20%20%20%20%20%20%20%20%20%7B%22extraClasses%22%3A%20%22fa-rotate-0%22%2C%20%22icon%22%3A%20%22paint-brush%22%2C%20%22iconColor%22%3A%20%22white%22%2C%20%22markerColor%22%3A%20%22red%22%2C%20%22prefix%22%3A%20%22fa%22%7D%0A%20%20%20%20%20%20%20%20%20%20%20%20%29%3B%0A%20%20%20%20%20%20%20%20%20%20%20%20marker_48ff8b0e01ff44e8955ffbf04869e0f7.setIcon%28icon_7083c69b2ed54e99952666887ac1dc7c%29%3B%0A%20%20%20%20%20%20%20%20%0A%20%20%20%20%0A%20%20%20%20%20%20%20%20var%20popup_158e8384958c4b1892915f4151d39ca3%20%3D%20L.popup%28%7B%22maxWidth%22%3A%20%22100%25%22%7D%29%3B%0A%0A%20%20%20%20%20%20%20%20%0A%20%20%20%20%20%20%20%20%20%20%20%20var%20html_46933491475247239edaf34b44f10083%20%3D%20%24%28%60%3Cdiv%20id%3D%22html_46933491475247239edaf34b44f10083%22%20style%3D%22width%3A%20100.0%25%3B%20height%3A%20100.0%25%3B%22%3E%28%27Coach%20Ed%20Temple%27%2C%20%27nan%27%29%3C/div%3E%60%29%5B0%5D%3B%0A%20%20%20%20%20%20%20%20%20%20%20%20popup_158e8384958c4b1892915f4151d39ca3.setContent%28html_46933491475247239edaf34b44f10083%29%3B%0A%20%20%20%20%20%20%20%20%0A%0A%20%20%20%20%20%20%20%20marker_48ff8b0e01ff44e8955ffbf04869e0f7.bindPopup%28popup_158e8384958c4b1892915f4151d39ca3%29%0A%20%20%20%20%20%20%20%20%3B%0A%0A%20%20%20%20%20%20%20%20%0A%20%20%20%20%0A%20%20%20%20%0A%20%20%20%20%20%20%20%20%20%20%20%20var%20marker_e887121e79b645869c8e07d08c9acf5e%20%3D%20L.marker%28%0A%20%20%20%20%20%20%20%20%20%20%20%20%20%20%20%20%5B36.1656%2C%20-86.78331%5D%2C%0A%20%20%20%20%20%20%20%20%20%20%20%20%20%20%20%20%7B%7D%0A%20%20%20%20%20%20%20%20%20%20%20%20%29.addTo%28map_9c6de01c7e04426cbe9be807a5d2d16f%29%3B%0A%20%20%20%20%20%20%20%20%0A%20%20%20%20%0A%20%20%20%20%20%20%20%20%20%20%20%20var%20icon_5de61a0a88284c8e9b63514a300d2b53%20%3D%20L.AwesomeMarkers.icon%28%0A%20%20%20%20%20%20%20%20%20%20%20%20%20%20%20%20%7B%22extraClasses%22%3A%20%22fa-rotate-0%22%2C%20%22icon%22%3A%20%22paint-brush%22%2C%20%22iconColor%22%3A%20%22white%22%2C%20%22markerColor%22%3A%20%22red%22%2C%20%22prefix%22%3A%20%22fa%22%7D%0A%20%20%20%20%20%20%20%20%20%20%20%20%29%3B%0A%20%20%20%20%20%20%20%20%20%20%20%20marker_e887121e79b645869c8e07d08c9acf5e.setIcon%28icon_5de61a0a88284c8e9b63514a300d2b53%29%3B%0A%20%20%20%20%20%20%20%20%0A%20%20%20%20%0A%20%20%20%20%20%20%20%20var%20popup_2fc2ef11ec9f4af8a3ccf70e4d170f11%20%3D%20L.popup%28%7B%22maxWidth%22%3A%20%22100%25%22%7D%29%3B%0A%0A%20%20%20%20%20%20%20%20%0A%20%20%20%20%20%20%20%20%20%20%20%20var%20html_e088a920149e4de2a03dd955285bffdc%20%3D%20%24%28%60%3Cdiv%20id%3D%22html_e088a920149e4de2a03dd955285bffdc%22%20style%3D%22width%3A%20100.0%25%3B%20height%3A%20100.0%25%3B%22%3E%28%27President%20Andrew%20Johnson%27%2C%20%22Jim%20Gray%20%281932-%20%29%20created%20this%20bronze%20statue%20of%20Andrew%20Johnson%2C%2017th%20US%20president%2C%20for%20the%20Tennessee%20State%20Capitol%20grounds.%20Vice-President%20under%20Lincoln%20during%20the%20Civil%20War%2C%20Johnson%20became%20president%20after%20Lincoln%27s%20assassination%2C%20during%20the%20Reconstruction%20period%20when%20Tennessee%20was%20readmitted%20to%20the%20Union.%20Johnson%20served%20his%20home%20state%20as%20Representative%20and%20Senator%2C%20as%20well%20as%20both%20Governor%20and%20Military%20Governor%20of%20the%20state.%20His%20statue%20faces%20east%20towards%20East%20Tennessee%20where%20the%20original%20casting%20of%20this%20statue%20stands%20in%20Greeneville%20at%20the%20Andrew%20Johnson%20National%20Historic%20Site.%22%29%3C/div%3E%60%29%5B0%5D%3B%0A%20%20%20%20%20%20%20%20%20%20%20%20popup_2fc2ef11ec9f4af8a3ccf70e4d170f11.setContent%28html_e088a920149e4de2a03dd955285bffdc%29%3B%0A%20%20%20%20%20%20%20%20%0A%0A%20%20%20%20%20%20%20%20marker_e887121e79b645869c8e07d08c9acf5e.bindPopup%28popup_2fc2ef11ec9f4af8a3ccf70e4d170f11%29%0A%20%20%20%20%20%20%20%20%3B%0A%0A%20%20%20%20%20%20%20%20%0A%20%20%20%20%0A%20%20%20%20%0A%20%20%20%20%20%20%20%20%20%20%20%20var%20marker_16e00bc4f58f454bae49e60dbed19270%20%3D%20L.marker%28%0A%20%20%20%20%20%20%20%20%20%20%20%20%20%20%20%20%5B36.16527%2C%20-86.78382%5D%2C%0A%20%20%20%20%20%20%20%20%20%20%20%20%20%20%20%20%7B%7D%0A%20%20%20%20%20%20%20%20%20%20%20%20%29.addTo%28map_9c6de01c7e04426cbe9be807a5d2d16f%29%3B%0A%20%20%20%20%20%20%20%20%0A%20%20%20%20%0A%20%20%20%20%20%20%20%20%20%20%20%20var%20icon_ee72638958c848938f27f248b4d5b760%20%3D%20L.AwesomeMarkers.icon%28%0A%20%20%20%20%20%20%20%20%20%20%20%20%20%20%20%20%7B%22extraClasses%22%3A%20%22fa-rotate-0%22%2C%20%22icon%22%3A%20%22paint-brush%22%2C%20%22iconColor%22%3A%20%22white%22%2C%20%22markerColor%22%3A%20%22red%22%2C%20%22prefix%22%3A%20%22fa%22%7D%0A%20%20%20%20%20%20%20%20%20%20%20%20%29%3B%0A%20%20%20%20%20%20%20%20%20%20%20%20marker_16e00bc4f58f454bae49e60dbed19270.setIcon%28icon_ee72638958c848938f27f248b4d5b760%29%3B%0A%20%20%20%20%20%20%20%20%0A%20%20%20%20%0A%20%20%20%20%20%20%20%20var%20popup_fb0ed624fb184a1ba8af3673c3d3386f%20%3D%20L.popup%28%7B%22maxWidth%22%3A%20%22100%25%22%7D%29%3B%0A%0A%20%20%20%20%20%20%20%20%0A%20%20%20%20%20%20%20%20%20%20%20%20var%20html_977feac058b5412a9b9fc5edb29e85f0%20%3D%20%24%28%60%3Cdiv%20id%3D%22html_977feac058b5412a9b9fc5edb29e85f0%22%20style%3D%22width%3A%20100.0%25%3B%20height%3A%20100.0%25%3B%22%3E%28%27Edward%20Ward%20Carmack%27%2C%20%27Nashville-born%20sculptor%20Nancy%20Cox-McCormack%20%281885-1967%29%20began%20her%20training%20in%201909%20at%20the%20St.%20Louis%20School%20of%20Fine%20Arts%20of%20Washington%20University%20and%20later%20at%20the%20Chicago%20Art%20Institute.%20During%20her%20professional%20career%20from%201911-60%2C%20she%20sculpted%20the%20likenesses%20of%20some%20of%20the%20most%20important%20personalities%20of%20her%20time%2C%20including%20Benito%20Mussolini%2C%20Primo%20de%20Rivera%2C%20Henry%20P.%20Fletcher%2C%20Jane%20Addams%2C%20Clarence%20Darrow%2C%20Mahatma%20Gandhi%2C%20and%20Ezra%20Pound.%20Between%201922%20and%201924%2C%20McCormack%20returned%20to%20her%20hometown%20and%20created%20the%20heroic%20Carmack%20monument%20honoring%20the%20slain%20politician%20and%20newspaper%20editor.%27%29%3C/div%3E%60%29%5B0%5D%3B%0A%20%20%20%20%20%20%20%20%20%20%20%20popup_fb0ed624fb184a1ba8af3673c3d3386f.setContent%28html_977feac058b5412a9b9fc5edb29e85f0%29%3B%0A%20%20%20%20%20%20%20%20%0A%0A%20%20%20%20%20%20%20%20marker_16e00bc4f58f454bae49e60dbed19270.bindPopup%28popup_fb0ed624fb184a1ba8af3673c3d3386f%29%0A%20%20%20%20%20%20%20%20%3B%0A%0A%20%20%20%20%20%20%20%20%0A%20%20%20%20%0A%20%20%20%20%0A%20%20%20%20%20%20%20%20%20%20%20%20var%20marker_0961f6ced3b040349385285a794d6d0e%20%3D%20L.marker%28%0A%20%20%20%20%20%20%20%20%20%20%20%20%20%20%20%20%5B36.16436%2C%20-86.78378%5D%2C%0A%20%20%20%20%20%20%20%20%20%20%20%20%20%20%20%20%7B%7D%0A%20%20%20%20%20%20%20%20%20%20%20%20%29.addTo%28map_9c6de01c7e04426cbe9be807a5d2d16f%29%3B%0A%20%20%20%20%20%20%20%20%0A%20%20%20%20%0A%20%20%20%20%20%20%20%20%20%20%20%20var%20icon_98f9243a7fbc40e3a3d199e4522ee68b%20%3D%20L.AwesomeMarkers.icon%28%0A%20%20%20%20%20%20%20%20%20%20%20%20%20%20%20%20%7B%22extraClasses%22%3A%20%22fa-rotate-0%22%2C%20%22icon%22%3A%20%22paint-brush%22%2C%20%22iconColor%22%3A%20%22white%22%2C%20%22markerColor%22%3A%20%22red%22%2C%20%22prefix%22%3A%20%22fa%22%7D%0A%20%20%20%20%20%20%20%20%20%20%20%20%29%3B%0A%20%20%20%20%20%20%20%20%20%20%20%20marker_0961f6ced3b040349385285a794d6d0e.setIcon%28icon_98f9243a7fbc40e3a3d199e4522ee68b%29%3B%0A%20%20%20%20%20%20%20%20%0A%20%20%20%20%0A%20%20%20%20%20%20%20%20var%20popup_645de34fc8934df2ad75d492ecbb34ef%20%3D%20L.popup%28%7B%22maxWidth%22%3A%20%22100%25%22%7D%29%3B%0A%0A%20%20%20%20%20%20%20%20%0A%20%20%20%20%20%20%20%20%20%20%20%20var%20html_8b36a2ef9e994986908dbe81e5ad7852%20%3D%20%24%28%60%3Cdiv%20id%3D%22html_8b36a2ef9e994986908dbe81e5ad7852%22%20style%3D%22width%3A%20100.0%25%3B%20height%3A%20100.0%25%3B%22%3E%28%27Victory%27%2C%20%27A%20statue%20of%20a%20classical%20warrior%2C%20nude%20except%20for%20sandals%2C%20a%20helmet%2C%20and%20a%20cloth%20which%20drapes%20around%20his%20proper%20left%20hip%20and%20loins.%20He%20holds%20a%20sword%20and%20wreath%20in%20his%20proper%20right%20hand.%20His%20proper%20right%20arm%20is%20draped%20with%20cloth.%20%20He%20holds%20a%20small%20female%20figure.%27%29%3C/div%3E%60%29%5B0%5D%3B%0A%20%20%20%20%20%20%20%20%20%20%20%20popup_645de34fc8934df2ad75d492ecbb34ef.setContent%28html_8b36a2ef9e994986908dbe81e5ad7852%29%3B%0A%20%20%20%20%20%20%20%20%0A%0A%20%20%20%20%20%20%20%20marker_0961f6ced3b040349385285a794d6d0e.bindPopup%28popup_645de34fc8934df2ad75d492ecbb34ef%29%0A%20%20%20%20%20%20%20%20%3B%0A%0A%20%20%20%20%20%20%20%20%0A%20%20%20%20%0A%20%20%20%20%0A%20%20%20%20%20%20%20%20%20%20%20%20var%20marker_15a6a5b633da4298bbabd154f93aa4af%20%3D%20L.marker%28%0A%20%20%20%20%20%20%20%20%20%20%20%20%20%20%20%20%5B36.16609%2C%20-86.78366%5D%2C%0A%20%20%20%20%20%20%20%20%20%20%20%20%20%20%20%20%7B%7D%0A%20%20%20%20%20%20%20%20%20%20%20%20%29.addTo%28map_9c6de01c7e04426cbe9be807a5d2d16f%29%3B%0A%20%20%20%20%20%20%20%20%0A%20%20%20%20%0A%20%20%20%20%20%20%20%20%20%20%20%20var%20icon_9fe6333769464231b9f6d1b59e0313b4%20%3D%20L.AwesomeMarkers.icon%28%0A%20%20%20%20%20%20%20%20%20%20%20%20%20%20%20%20%7B%22extraClasses%22%3A%20%22fa-rotate-0%22%2C%20%22icon%22%3A%20%22paint-brush%22%2C%20%22iconColor%22%3A%20%22white%22%2C%20%22markerColor%22%3A%20%22red%22%2C%20%22prefix%22%3A%20%22fa%22%7D%0A%20%20%20%20%20%20%20%20%20%20%20%20%29%3B%0A%20%20%20%20%20%20%20%20%20%20%20%20marker_15a6a5b633da4298bbabd154f93aa4af.setIcon%28icon_9fe6333769464231b9f6d1b59e0313b4%29%3B%0A%20%20%20%20%20%20%20%20%0A%20%20%20%20%0A%20%20%20%20%20%20%20%20var%20popup_39c89ab58a9442b3b3af4d2570a4f714%20%3D%20L.popup%28%7B%22maxWidth%22%3A%20%22100%25%22%7D%29%3B%0A%0A%20%20%20%20%20%20%20%20%0A%20%20%20%20%20%20%20%20%20%20%20%20var%20html_6c997460d24a4f9f96430c84d1207076%20%3D%20%24%28%60%3Cdiv%20id%3D%22html_6c997460d24a4f9f96430c84d1207076%22%20style%3D%22width%3A%20100.0%25%3B%20height%3A%20100.0%25%3B%22%3E%28%27Andrew%20Jackson%27%2C%20%22The%20Tennessee%20Historical%20Society%20erected%20this%20equestrian%20bronze%20statue%20of%20General%20Andrew%20Jackson%20to%20honor%20the%20city%E2%80%99s%20centennial%20anniversary%20in%201880.%20The%20statue%20depicts%20Jackson%20as%20the%20dashing%20hero%20of%20the%201815%20Battle%20of%20New%20Orleans.%20Sculptor%20Clark%20Mills%20%281801-1883%29%20based%20it%20on%20his%20previous%20Jackson%20Memorial%20of%201853%20which%20stands%20today%20in%20Washington%20DC%E2%80%99s%20Lafayette%20Square.%20Mills%E2%80%99%20work%20is%20considered%20to%20be%20the%20first%20equestrian%20statue%20cast%20in%20the%20United%20States.%20President%20Andrew%20Jackson%27s%20home%20in%20Nashville%2C%20The%20Hermitage%2C%20is%20open%20for%20tours%20and%20is%20located%2010%20miles%20east%20of%20downtown.%22%29%3C/div%3E%60%29%5B0%5D%3B%0A%20%20%20%20%20%20%20%20%20%20%20%20popup_39c89ab58a9442b3b3af4d2570a4f714.setContent%28html_6c997460d24a4f9f96430c84d1207076%29%3B%0A%20%20%20%20%20%20%20%20%0A%0A%20%20%20%20%20%20%20%20marker_15a6a5b633da4298bbabd154f93aa4af.bindPopup%28popup_39c89ab58a9442b3b3af4d2570a4f714%29%0A%20%20%20%20%20%20%20%20%3B%0A%0A%20%20%20%20%20%20%20%20%0A%20%20%20%20%0A%20%20%20%20%0A%20%20%20%20%20%20%20%20%20%20%20%20var%20marker_5ddd250eb45e40998ce29a6e71becaba%20%3D%20L.marker%28%0A%20%20%20%20%20%20%20%20%20%20%20%20%20%20%20%20%5B36.16215%2C%20-86.78205%5D%2C%0A%20%20%20%20%20%20%20%20%20%20%20%20%20%20%20%20%7B%7D%0A%20%20%20%20%20%20%20%20%20%20%20%20%29.addTo%28map_9c6de01c7e04426cbe9be807a5d2d16f%29%3B%0A%20%20%20%20%20%20%20%20%0A%20%20%20%20%0A%20%20%20%20%20%20%20%20%20%20%20%20var%20icon_0d00d93b9c6f4545b8243ced9d5234d1%20%3D%20L.AwesomeMarkers.icon%28%0A%20%20%20%20%20%20%20%20%20%20%20%20%20%20%20%20%7B%22extraClasses%22%3A%20%22fa-rotate-0%22%2C%20%22icon%22%3A%20%22paint-brush%22%2C%20%22iconColor%22%3A%20%22white%22%2C%20%22markerColor%22%3A%20%22red%22%2C%20%22prefix%22%3A%20%22fa%22%7D%0A%20%20%20%20%20%20%20%20%20%20%20%20%29%3B%0A%20%20%20%20%20%20%20%20%20%20%20%20marker_5ddd250eb45e40998ce29a6e71becaba.setIcon%28icon_0d00d93b9c6f4545b8243ced9d5234d1%29%3B%0A%20%20%20%20%20%20%20%20%0A%20%20%20%20%0A%20%20%20%20%20%20%20%20var%20popup_93f292ae95f2417f8921e22ba710ec82%20%3D%20L.popup%28%7B%22maxWidth%22%3A%20%22100%25%22%7D%29%3B%0A%0A%20%20%20%20%20%20%20%20%0A%20%20%20%20%20%20%20%20%20%20%20%20var%20html_394ad23ae6e040fe8c07576bbb478445%20%3D%20%24%28%60%3Cdiv%20id%3D%22html_394ad23ae6e040fe8c07576bbb478445%22%20style%3D%22width%3A%20100.0%25%3B%20height%3A%20100.0%25%3B%22%3E%28%27Library%20Doors%27%2C%20%22Images%20of%20local%20people%20as%20well%20as%20Tennessee%20animals%20and%20plants%20are%20incorporated%20into%20the%20three%20pair%20of%20grand%20scale%20double%20doors.%20%20The%208%20panels%20in%20the%20Central%20Pair%20of%20Doors%20convey%20the%20importance%20of%20reading%20by%20depicting%20a%20%20widely%20diverse%20group%20of%20adults%20and%20children%20enjoying%20books%20or%20using%20a%20computer.%20%20The%2016%20panels%20on%20the%20East%20and%20West%20doors%20show%20the%20plants%20and%20animals.%20%20The%20artist%27s%20intent%20was%20to%20humanize%20the%20library%20entry%20experience%20by%20creating%20a%20work%20that%20children%20and%20adults%20could%20touch%20and%20view%20at%20pedestrian%20scale.%22%29%3C/div%3E%60%29%5B0%5D%3B%0A%20%20%20%20%20%20%20%20%20%20%20%20popup_93f292ae95f2417f8921e22ba710ec82.setContent%28html_394ad23ae6e040fe8c07576bbb478445%29%3B%0A%20%20%20%20%20%20%20%20%0A%0A%20%20%20%20%20%20%20%20marker_5ddd250eb45e40998ce29a6e71becaba.bindPopup%28popup_93f292ae95f2417f8921e22ba710ec82%29%0A%20%20%20%20%20%20%20%20%3B%0A%0A%20%20%20%20%20%20%20%20%0A%20%20%20%20%0A%20%20%20%20%0A%20%20%20%20%20%20%20%20%20%20%20%20var%20marker_ec9db8a4440a4f639456fbe8896b5589%20%3D%20L.marker%28%0A%20%20%20%20%20%20%20%20%20%20%20%20%20%20%20%20%5B36.161327%2C%20-86.778877%5D%2C%0A%20%20%20%20%20%20%20%20%20%20%20%20%20%20%20%20%7B%7D%0A%20%20%20%20%20%20%20%20%20%20%20%20%29.addTo%28map_9c6de01c7e04426cbe9be807a5d2d16f%29%3B%0A%20%20%20%20%20%20%20%20%0A%20%20%20%20%0A%20%20%20%20%20%20%20%20%20%20%20%20var%20icon_71be34db0ffe464eac7c774f7db82743%20%3D%20L.AwesomeMarkers.icon%28%0A%20%20%20%20%20%20%20%20%20%20%20%20%20%20%20%20%7B%22extraClasses%22%3A%20%22fa-rotate-0%22%2C%20%22icon%22%3A%20%22paint-brush%22%2C%20%22iconColor%22%3A%20%22white%22%2C%20%22markerColor%22%3A%20%22red%22%2C%20%22prefix%22%3A%20%22fa%22%7D%0A%20%20%20%20%20%20%20%20%20%20%20%20%29%3B%0A%20%20%20%20%20%20%20%20%20%20%20%20marker_ec9db8a4440a4f639456fbe8896b5589.setIcon%28icon_71be34db0ffe464eac7c774f7db82743%29%3B%0A%20%20%20%20%20%20%20%20%0A%20%20%20%20%0A%20%20%20%20%20%20%20%20var%20popup_b41f3277182b46f3a07a847ab9ab2a26%20%3D%20L.popup%28%7B%22maxWidth%22%3A%20%22100%25%22%7D%29%3B%0A%0A%20%20%20%20%20%20%20%20%0A%20%20%20%20%20%20%20%20%20%20%20%20var%20html_871df613d9e345bf8de68691f733db0e%20%3D%20%24%28%60%3Cdiv%20id%3D%22html_871df613d9e345bf8de68691f733db0e%22%20style%3D%22width%3A%20100.0%25%3B%20height%3A%20100.0%25%3B%22%3E%28%27Beautiful%20Decay%27%2C%20%27nan%27%29%3C/div%3E%60%29%5B0%5D%3B%0A%20%20%20%20%20%20%20%20%20%20%20%20popup_b41f3277182b46f3a07a847ab9ab2a26.setContent%28html_871df613d9e345bf8de68691f733db0e%29%3B%0A%20%20%20%20%20%20%20%20%0A%0A%20%20%20%20%20%20%20%20marker_ec9db8a4440a4f639456fbe8896b5589.bindPopup%28popup_b41f3277182b46f3a07a847ab9ab2a26%29%0A%20%20%20%20%20%20%20%20%3B%0A%0A%20%20%20%20%20%20%20%20%0A%20%20%20%20%0A%20%20%20%20%0A%20%20%20%20%20%20%20%20%20%20%20%20var%20marker_0daf6ea6336944cd8473aab401bf2ed3%20%3D%20L.marker%28%0A%20%20%20%20%20%20%20%20%20%20%20%20%20%20%20%20%5B36.16215%2C%20-86.78205%5D%2C%0A%20%20%20%20%20%20%20%20%20%20%20%20%20%20%20%20%7B%7D%0A%20%20%20%20%20%20%20%20%20%20%20%20%29.addTo%28map_9c6de01c7e04426cbe9be807a5d2d16f%29%3B%0A%20%20%20%20%20%20%20%20%0A%20%20%20%20%0A%20%20%20%20%20%20%20%20%20%20%20%20var%20icon_8fe5087efaf947b29ab39a1d963e9d1f%20%3D%20L.AwesomeMarkers.icon%28%0A%20%20%20%20%20%20%20%20%20%20%20%20%20%20%20%20%7B%22extraClasses%22%3A%20%22fa-rotate-0%22%2C%20%22icon%22%3A%20%22paint-brush%22%2C%20%22iconColor%22%3A%20%22white%22%2C%20%22markerColor%22%3A%20%22red%22%2C%20%22prefix%22%3A%20%22fa%22%7D%0A%20%20%20%20%20%20%20%20%20%20%20%20%29%3B%0A%20%20%20%20%20%20%20%20%20%20%20%20marker_0daf6ea6336944cd8473aab401bf2ed3.setIcon%28icon_8fe5087efaf947b29ab39a1d963e9d1f%29%3B%0A%20%20%20%20%20%20%20%20%0A%20%20%20%20%0A%20%20%20%20%20%20%20%20var%20popup_0e8c36a4ff3d44119f73b5847e5f12e8%20%3D%20L.popup%28%7B%22maxWidth%22%3A%20%22100%25%22%7D%29%3B%0A%0A%20%20%20%20%20%20%20%20%0A%20%20%20%20%20%20%20%20%20%20%20%20var%20html_b7fe179836894d36b56c2f3c17c597a0%20%3D%20%24%28%60%3Cdiv%20id%3D%22html_b7fe179836894d36b56c2f3c17c597a0%22%20style%3D%22width%3A%20100.0%25%3B%20height%3A%20100.0%25%3B%22%3E%28%22Children%27s%20Chairs%20For%20The%20Seasons%22%2C%20%27Chairs%20depicting%20the%20four%20seasons%27%29%3C/div%3E%60%29%5B0%5D%3B%0A%20%20%20%20%20%20%20%20%20%20%20%20popup_0e8c36a4ff3d44119f73b5847e5f12e8.setContent%28html_b7fe179836894d36b56c2f3c17c597a0%29%3B%0A%20%20%20%20%20%20%20%20%0A%0A%20%20%20%20%20%20%20%20marker_0daf6ea6336944cd8473aab401bf2ed3.bindPopup%28popup_0e8c36a4ff3d44119f73b5847e5f12e8%29%0A%20%20%20%20%20%20%20%20%3B%0A%0A%20%20%20%20%20%20%20%20%0A%20%20%20%20%0A%20%20%20%20%0A%20%20%20%20%20%20%20%20%20%20%20%20var%20marker_b45656418bf4401fbd55b7fa94fb07e6%20%3D%20L.marker%28%0A%20%20%20%20%20%20%20%20%20%20%20%20%20%20%20%20%5B36.16151%2C%20-86.77816%5D%2C%0A%20%20%20%20%20%20%20%20%20%20%20%20%20%20%20%20%7B%7D%0A%20%20%20%20%20%20%20%20%20%20%20%20%29.addTo%28map_9c6de01c7e04426cbe9be807a5d2d16f%29%3B%0A%20%20%20%20%20%20%20%20%0A%20%20%20%20%0A%20%20%20%20%20%20%20%20%20%20%20%20var%20icon_4fe8a927bb034c58bec249e26fd43ab9%20%3D%20L.AwesomeMarkers.icon%28%0A%20%20%20%20%20%20%20%20%20%20%20%20%20%20%20%20%7B%22extraClasses%22%3A%20%22fa-rotate-0%22%2C%20%22icon%22%3A%20%22paint-brush%22%2C%20%22iconColor%22%3A%20%22white%22%2C%20%22markerColor%22%3A%20%22red%22%2C%20%22prefix%22%3A%20%22fa%22%7D%0A%20%20%20%20%20%20%20%20%20%20%20%20%29%3B%0A%20%20%20%20%20%20%20%20%20%20%20%20marker_b45656418bf4401fbd55b7fa94fb07e6.setIcon%28icon_4fe8a927bb034c58bec249e26fd43ab9%29%3B%0A%20%20%20%20%20%20%20%20%0A%20%20%20%20%0A%20%20%20%20%20%20%20%20var%20popup_88498f1396d448ceb7294ddd01295e67%20%3D%20L.popup%28%7B%22maxWidth%22%3A%20%22100%25%22%7D%29%3B%0A%0A%20%20%20%20%20%20%20%20%0A%20%20%20%20%20%20%20%20%20%20%20%20var%20html_8d4a48b4d5574ac18936f1d5a6ce173e%20%3D%20%24%28%60%3Cdiv%20id%3D%22html_8d4a48b4d5574ac18936f1d5a6ce173e%22%20style%3D%22width%3A%20100.0%25%3B%20height%3A%20100.0%25%3B%22%3E%28%27Oh%2C%20Roy%27%2C%20%27Minnie%20Pearl%20and%20Roy%20Acuff%20seated%20on%20a%20bench%20inside%20Ryman%20Auditorium.%27%29%3C/div%3E%60%29%5B0%5D%3B%0A%20%20%20%20%20%20%20%20%20%20%20%20popup_88498f1396d448ceb7294ddd01295e67.setContent%28html_8d4a48b4d5574ac18936f1d5a6ce173e%29%3B%0A%20%20%20%20%20%20%20%20%0A%0A%20%20%20%20%20%20%20%20marker_b45656418bf4401fbd55b7fa94fb07e6.bindPopup%28popup_88498f1396d448ceb7294ddd01295e67%29%0A%20%20%20%20%20%20%20%20%3B%0A%0A%20%20%20%20%20%20%20%20%0A%20%20%20%20%0A%20%20%20%20%0A%20%20%20%20%20%20%20%20%20%20%20%20var%20marker_8b52c76350e04661874a4f14aa4fba6d%20%3D%20L.marker%28%0A%20%20%20%20%20%20%20%20%20%20%20%20%20%20%20%20%5B36.16479%2C%20-86.78239%5D%2C%0A%20%20%20%20%20%20%20%20%20%20%20%20%20%20%20%20%7B%7D%0A%20%20%20%20%20%20%20%20%20%20%20%20%29.addTo%28map_9c6de01c7e04426cbe9be807a5d2d16f%29%3B%0A%20%20%20%20%20%20%20%20%0A%20%20%20%20%0A%20%20%20%20%20%20%20%20%20%20%20%20var%20icon_ad67ddfaa81d43568ef8cee9f240528c%20%3D%20L.AwesomeMarkers.icon%28%0A%20%20%20%20%20%20%20%20%20%20%20%20%20%20%20%20%7B%22extraClasses%22%3A%20%22fa-rotate-0%22%2C%20%22icon%22%3A%20%22paint-brush%22%2C%20%22iconColor%22%3A%20%22white%22%2C%20%22markerColor%22%3A%20%22red%22%2C%20%22prefix%22%3A%20%22fa%22%7D%0A%20%20%20%20%20%20%20%20%20%20%20%20%29%3B%0A%20%20%20%20%20%20%20%20%20%20%20%20marker_8b52c76350e04661874a4f14aa4fba6d.setIcon%28icon_ad67ddfaa81d43568ef8cee9f240528c%29%3B%0A%20%20%20%20%20%20%20%20%0A%20%20%20%20%0A%20%20%20%20%20%20%20%20var%20popup_58287275b03b4e2d8964c685e578cbed%20%3D%20L.popup%28%7B%22maxWidth%22%3A%20%22100%25%22%7D%29%3B%0A%0A%20%20%20%20%20%20%20%20%0A%20%20%20%20%20%20%20%20%20%20%20%20var%20html_15ad91ef6654440c9407b8cf22920bbe%20%3D%20%24%28%60%3Cdiv%20id%3D%22html_15ad91ef6654440c9407b8cf22920bbe%22%20style%3D%22width%3A%20100.0%25%3B%20height%3A%20100.0%25%3B%22%3E%28%27Tennessee%20Falls%27%2C%20%27A%20stone%20wall%20built%20with%20three%20types%20of%20stone%20with%20water%20falling%20down%20the%20wall%20into%20a%20pool%20at%20the%20bottom.%27%29%3C/div%3E%60%29%5B0%5D%3B%0A%20%20%20%20%20%20%20%20%20%20%20%20popup_58287275b03b4e2d8964c685e578cbed.setContent%28html_15ad91ef6654440c9407b8cf22920bbe%29%3B%0A%20%20%20%20%20%20%20%20%0A%0A%20%20%20%20%20%20%20%20marker_8b52c76350e04661874a4f14aa4fba6d.bindPopup%28popup_58287275b03b4e2d8964c685e578cbed%29%0A%20%20%20%20%20%20%20%20%3B%0A%0A%20%20%20%20%20%20%20%20%0A%20%20%20%20%0A%20%20%20%20%0A%20%20%20%20%20%20%20%20%20%20%20%20var%20marker_fb23acffdab843218ad5b8c86c198d64%20%3D%20L.marker%28%0A%20%20%20%20%20%20%20%20%20%20%20%20%20%20%20%20%5B36.16156%2C%20-86.77789%5D%2C%0A%20%20%20%20%20%20%20%20%20%20%20%20%20%20%20%20%7B%7D%0A%20%20%20%20%20%20%20%20%20%20%20%20%29.addTo%28map_9c6de01c7e04426cbe9be807a5d2d16f%29%3B%0A%20%20%20%20%20%20%20%20%0A%20%20%20%20%0A%20%20%20%20%20%20%20%20%20%20%20%20var%20icon_f8141cc621464a47ab8e333fa9f302a2%20%3D%20L.AwesomeMarkers.icon%28%0A%20%20%20%20%20%20%20%20%20%20%20%20%20%20%20%20%7B%22extraClasses%22%3A%20%22fa-rotate-0%22%2C%20%22icon%22%3A%20%22paint-brush%22%2C%20%22iconColor%22%3A%20%22white%22%2C%20%22markerColor%22%3A%20%22red%22%2C%20%22prefix%22%3A%20%22fa%22%7D%0A%20%20%20%20%20%20%20%20%20%20%20%20%29%3B%0A%20%20%20%20%20%20%20%20%20%20%20%20marker_fb23acffdab843218ad5b8c86c198d64.setIcon%28icon_f8141cc621464a47ab8e333fa9f302a2%29%3B%0A%20%20%20%20%20%20%20%20%0A%20%20%20%20%0A%20%20%20%20%20%20%20%20var%20popup_502b716a5fe9439394d352dec795a2ea%20%3D%20L.popup%28%7B%22maxWidth%22%3A%20%22100%25%22%7D%29%3B%0A%0A%20%20%20%20%20%20%20%20%0A%20%20%20%20%20%20%20%20%20%20%20%20var%20html_c93ec1a015fb4cb0aed62e84c2fd3115%20%3D%20%24%28%60%3Cdiv%20id%3D%22html_c93ec1a015fb4cb0aed62e84c2fd3115%22%20style%3D%22width%3A%20100.0%25%3B%20height%3A%20100.0%25%3B%22%3E%28%27Thomas%20Gleen%20Ryman%27%2C%20%27Full-length%20standing%20figure%20of%20Ryman%2C%20holding%20a%20section%20of%20a%20riverboat%20steering%20spoke.%27%29%3C/div%3E%60%29%5B0%5D%3B%0A%20%20%20%20%20%20%20%20%20%20%20%20popup_502b716a5fe9439394d352dec795a2ea.setContent%28html_c93ec1a015fb4cb0aed62e84c2fd3115%29%3B%0A%20%20%20%20%20%20%20%20%0A%0A%20%20%20%20%20%20%20%20marker_fb23acffdab843218ad5b8c86c198d64.bindPopup%28popup_502b716a5fe9439394d352dec795a2ea%29%0A%20%20%20%20%20%20%20%20%3B%0A%0A%20%20%20%20%20%20%20%20%0A%20%20%20%20%0A%20%20%20%20%0A%20%20%20%20%20%20%20%20%20%20%20%20var%20marker_918f0fc1f7b24492809a91f8466a64fe%20%3D%20L.marker%28%0A%20%20%20%20%20%20%20%20%20%20%20%20%20%20%20%20%5B36.16388%2C%20-86.78333%5D%2C%0A%20%20%20%20%20%20%20%20%20%20%20%20%20%20%20%20%7B%7D%0A%20%20%20%20%20%20%20%20%20%20%20%20%29.addTo%28map_9c6de01c7e04426cbe9be807a5d2d16f%29%3B%0A%20%20%20%20%20%20%20%20%0A%20%20%20%20%0A%20%20%20%20%20%20%20%20%20%20%20%20var%20icon_c48750f3f9154a00af9cdcffb24ef688%20%3D%20L.AwesomeMarkers.icon%28%0A%20%20%20%20%20%20%20%20%20%20%20%20%20%20%20%20%7B%22extraClasses%22%3A%20%22fa-rotate-0%22%2C%20%22icon%22%3A%20%22paint-brush%22%2C%20%22iconColor%22%3A%20%22white%22%2C%20%22markerColor%22%3A%20%22red%22%2C%20%22prefix%22%3A%20%22fa%22%7D%0A%20%20%20%20%20%20%20%20%20%20%20%20%29%3B%0A%20%20%20%20%20%20%20%20%20%20%20%20marker_918f0fc1f7b24492809a91f8466a64fe.setIcon%28icon_c48750f3f9154a00af9cdcffb24ef688%29%3B%0A%20%20%20%20%20%20%20%20%0A%20%20%20%20%0A%20%20%20%20%20%20%20%20var%20popup_a102d82b98e649d89a71a8f2f7f1787a%20%3D%20L.popup%28%7B%22maxWidth%22%3A%20%22100%25%22%7D%29%3B%0A%0A%20%20%20%20%20%20%20%20%0A%20%20%20%20%20%20%20%20%20%20%20%20var%20html_2d2ea4a48092420f8d355ddcddbe2cbc%20%3D%20%24%28%60%3Cdiv%20id%3D%22html_2d2ea4a48092420f8d355ddcddbe2cbc%22%20style%3D%22width%3A%20100.0%25%3B%20height%3A%20100.0%25%3B%22%3E%28%22Tennessee%20Vietnam%20Veteran%27s%20Memorial%22%2C%20%27The%20plaque%20lists%20the%20names%20of%20the%201%2C209%20Tennesseans%20who%20lost%20their%20lives%20%28of%20the%2049%2C000%20who%20served%29%20in%20the%20fighting%20in%20Southeast%20Asia.%20Three%20bronze%20soldiers%2C%20two%20of%20whom%20are%20on%20bended%20knee%2C%20rest%20atop%20a%20circular%20bronze%20base%20sitting%20upon%20a%20granite%20base.%27%29%3C/div%3E%60%29%5B0%5D%3B%0A%20%20%20%20%20%20%20%20%20%20%20%20popup_a102d82b98e649d89a71a8f2f7f1787a.setContent%28html_2d2ea4a48092420f8d355ddcddbe2cbc%29%3B%0A%20%20%20%20%20%20%20%20%0A%0A%20%20%20%20%20%20%20%20marker_918f0fc1f7b24492809a91f8466a64fe.bindPopup%28popup_a102d82b98e649d89a71a8f2f7f1787a%29%0A%20%20%20%20%20%20%20%20%3B%0A%0A%20%20%20%20%20%20%20%20%0A%20%20%20%20%0A%20%20%20%20%0A%20%20%20%20%20%20%20%20%20%20%20%20var%20marker_3e6d5151cab54226bf799327168b13c1%20%3D%20L.marker%28%0A%20%20%20%20%20%20%20%20%20%20%20%20%20%20%20%20%5B36.16215%2C%20-86.78205%5D%2C%0A%20%20%20%20%20%20%20%20%20%20%20%20%20%20%20%20%7B%7D%0A%20%20%20%20%20%20%20%20%20%20%20%20%29.addTo%28map_9c6de01c7e04426cbe9be807a5d2d16f%29%3B%0A%20%20%20%20%20%20%20%20%0A%20%20%20%20%0A%20%20%20%20%20%20%20%20%20%20%20%20var%20icon_5ec3a293f40940faacabc801ca631a30%20%3D%20L.AwesomeMarkers.icon%28%0A%20%20%20%20%20%20%20%20%20%20%20%20%20%20%20%20%7B%22extraClasses%22%3A%20%22fa-rotate-0%22%2C%20%22icon%22%3A%20%22paint-brush%22%2C%20%22iconColor%22%3A%20%22white%22%2C%20%22markerColor%22%3A%20%22red%22%2C%20%22prefix%22%3A%20%22fa%22%7D%0A%20%20%20%20%20%20%20%20%20%20%20%20%29%3B%0A%20%20%20%20%20%20%20%20%20%20%20%20marker_3e6d5151cab54226bf799327168b13c1.setIcon%28icon_5ec3a293f40940faacabc801ca631a30%29%3B%0A%20%20%20%20%20%20%20%20%0A%20%20%20%20%0A%20%20%20%20%20%20%20%20var%20popup_19c8cdc56c4441fcbaebb5917b11169b%20%3D%20L.popup%28%7B%22maxWidth%22%3A%20%22100%25%22%7D%29%3B%0A%0A%20%20%20%20%20%20%20%20%0A%20%20%20%20%20%20%20%20%20%20%20%20var%20html_6dbb062331fe45c99641baa84490dc04%20%3D%20%24%28%60%3Cdiv%20id%3D%22html_6dbb062331fe45c99641baa84490dc04%22%20style%3D%22width%3A%20100.0%25%3B%20height%3A%20100.0%25%3B%22%3E%28%27La%20Storia%20della%20Terra%27%2C%20%27A%2020%20foot%20tower%20of%20stone%20books.%20There%20are%2026%20books%2C%20one%20for%20each%20letter%20of%20the%20alphabet.%20Stones%20are%20from%20five%20continents.%27%29%3C/div%3E%60%29%5B0%5D%3B%0A%20%20%20%20%20%20%20%20%20%20%20%20popup_19c8cdc56c4441fcbaebb5917b11169b.setContent%28html_6dbb062331fe45c99641baa84490dc04%29%3B%0A%20%20%20%20%20%20%20%20%0A%0A%20%20%20%20%20%20%20%20marker_3e6d5151cab54226bf799327168b13c1.bindPopup%28popup_19c8cdc56c4441fcbaebb5917b11169b%29%0A%20%20%20%20%20%20%20%20%3B%0A%0A%20%20%20%20%20%20%20%20%0A%20%20%20%20%0A%20%20%20%20%0A%20%20%20%20%20%20%20%20%20%20%20%20var%20marker_e33531f67a85459c832c7ac84fa9a5f3%20%3D%20L.marker%28%0A%20%20%20%20%20%20%20%20%20%20%20%20%20%20%20%20%5B36.16369%2C%20-86.78358%5D%2C%0A%20%20%20%20%20%20%20%20%20%20%20%20%20%20%20%20%7B%7D%0A%20%20%20%20%20%20%20%20%20%20%20%20%29.addTo%28map_9c6de01c7e04426cbe9be807a5d2d16f%29%3B%0A%20%20%20%20%20%20%20%20%0A%20%20%20%20%0A%20%20%20%20%20%20%20%20%20%20%20%20var%20icon_649820fbe92f4b98b891787eb40b8b57%20%3D%20L.AwesomeMarkers.icon%28%0A%20%20%20%20%20%20%20%20%20%20%20%20%20%20%20%20%7B%22extraClasses%22%3A%20%22fa-rotate-0%22%2C%20%22icon%22%3A%20%22paint-brush%22%2C%20%22iconColor%22%3A%20%22white%22%2C%20%22markerColor%22%3A%20%22red%22%2C%20%22prefix%22%3A%20%22fa%22%7D%0A%20%20%20%20%20%20%20%20%20%20%20%20%29%3B%0A%20%20%20%20%20%20%20%20%20%20%20%20marker_e33531f67a85459c832c7ac84fa9a5f3.setIcon%28icon_649820fbe92f4b98b891787eb40b8b57%29%3B%0A%20%20%20%20%20%20%20%20%0A%20%20%20%20%0A%20%20%20%20%20%20%20%20var%20popup_de93f3ab3ea74b459a1080d93ecb2438%20%3D%20L.popup%28%7B%22maxWidth%22%3A%20%22100%25%22%7D%29%3B%0A%0A%20%20%20%20%20%20%20%20%0A%20%20%20%20%20%20%20%20%20%20%20%20var%20html_1a90eab9d62f4dc89ea888dab8489da2%20%3D%20%24%28%60%3Cdiv%20id%3D%22html_1a90eab9d62f4dc89ea888dab8489da2%22%20style%3D%22width%3A%20100.0%25%3B%20height%3A%20100.0%25%3B%22%3E%28%22Tennessee%20Confederate%20Women%27s%20Memorial%22%2C%20%27The%20United%20Confederate%20Veterans%20selected%20a%20young%20Nashville%20sculptor%20Belle%20Kinney%20%281890-1959%29%20for%20its%20monument%20to%20the%20Women%20of%20the%20Confederacy.%20A%20grouping%20of%20three%20figures%2C%20Fame%20sits%20at%20the%20center%2C%20supporting%20a%20wounded%20Confederate%20soldier%20while%20she%20places%20a%20wreath%20upon%20the%20head%20of%20the%20Southern%20Woman.%20The%20bronze%20statue%20was%20placed%20at%20the%20Mississippi%20Capitol%20in%201917%20and%20a%20second%20casting%20of%20it%20placed%20in%20the%20sunken%20garden%20at%20the%20Tennessee%20War%20Memorial%20Building%20on%20October%2010%2C%201926.%20Because%20of%20a%20steady%20downpour%2C%20the%20ceremony%2C%20attended%20by%20about%20800%20people%2C%20was%20held%20inside%20the%20War%20Memorial%20Auditorium.%27%29%3C/div%3E%60%29%5B0%5D%3B%0A%20%20%20%20%20%20%20%20%20%20%20%20popup_de93f3ab3ea74b459a1080d93ecb2438.setContent%28html_1a90eab9d62f4dc89ea888dab8489da2%29%3B%0A%20%20%20%20%20%20%20%20%0A%0A%20%20%20%20%20%20%20%20marker_e33531f67a85459c832c7ac84fa9a5f3.bindPopup%28popup_de93f3ab3ea74b459a1080d93ecb2438%29%0A%20%20%20%20%20%20%20%20%3B%0A%0A%20%20%20%20%20%20%20%20%0A%20%20%20%20%0A%20%20%20%20%0A%20%20%20%20%20%20%20%20%20%20%20%20var%20marker_ccb9aa355af347daa9fab1c9bb6da8e8%20%3D%20L.marker%28%0A%20%20%20%20%20%20%20%20%20%20%20%20%20%20%20%20%5B36.16669%2C%20-86.78322%5D%2C%0A%20%20%20%20%20%20%20%20%20%20%20%20%20%20%20%20%7B%7D%0A%20%20%20%20%20%20%20%20%20%20%20%20%29.addTo%28map_9c6de01c7e04426cbe9be807a5d2d16f%29%3B%0A%20%20%20%20%20%20%20%20%0A%20%20%20%20%0A%20%20%20%20%20%20%20%20%20%20%20%20var%20icon_bd40f45242704caabb9eba839e860e75%20%3D%20L.AwesomeMarkers.icon%28%0A%20%20%20%20%20%20%20%20%20%20%20%20%20%20%20%20%7B%22extraClasses%22%3A%20%22fa-rotate-0%22%2C%20%22icon%22%3A%20%22paint-brush%22%2C%20%22iconColor%22%3A%20%22white%22%2C%20%22markerColor%22%3A%20%22red%22%2C%20%22prefix%22%3A%20%22fa%22%7D%0A%20%20%20%20%20%20%20%20%20%20%20%20%29%3B%0A%20%20%20%20%20%20%20%20%20%20%20%20marker_ccb9aa355af347daa9fab1c9bb6da8e8.setIcon%28icon_bd40f45242704caabb9eba839e860e75%29%3B%0A%20%20%20%20%20%20%20%20%0A%20%20%20%20%0A%20%20%20%20%20%20%20%20var%20popup_e2ab74496ce2454a91b70ac1da48b7dd%20%3D%20L.popup%28%7B%22maxWidth%22%3A%20%22100%25%22%7D%29%3B%0A%0A%20%20%20%20%20%20%20%20%0A%20%20%20%20%20%20%20%20%20%20%20%20var%20html_7268fd17bb0e4da2a5abc3ff66e698b6%20%3D%20%24%28%60%3Cdiv%20id%3D%22html_7268fd17bb0e4da2a5abc3ff66e698b6%22%20style%3D%22width%3A%20100.0%25%3B%20height%3A%20100.0%25%3B%22%3E%28%27Pioneer%20Family%20-%20The%20Mountain%20Group%27%2C%20%27A%20stylized%20depiction%20of%20three%20heroic%20pioneer%20figures%20wearing%20buckskin%20clothing.%20A%20youth%20stands%20in%20front%20wearing%20a%20cap%2C%20tunic%2C%20trousers%2C%20mocasins%2C%20and%20holding%20a%20hunting%20knife%20in%20his%20proper%20right%20hand.%20He%20looks%20to%20the%20proper%20right%20and%20steps%20forward%20onto%20his%20proper%20left%20leg.%20His%20proper%20left%20foot%20extends%20slightly%20beyond%20the%20edge%20of%20the%20plinth.%20Behind%20him%20stands%20an%20older%20and%20taller%20male%20figure%2C%20also%20wearing%20buckskin%20clothing.%20He%20steps%20forward%20on%20his%20proper%20right%20foot%20and%20wears%20a%20hunting%20knife%20in%20his%20belt.%20Behind%20him%20stands%20a%20woman%20wearing%20a%20knee%20length%20dress%20and%20stepping%20forward%20on%20her%20proper%20right%20foot.%20The%20figure%20group%20stands%20on%20rectangular%20plinth.%27%29%3C/div%3E%60%29%5B0%5D%3B%0A%20%20%20%20%20%20%20%20%20%20%20%20popup_e2ab74496ce2454a91b70ac1da48b7dd.setContent%28html_7268fd17bb0e4da2a5abc3ff66e698b6%29%3B%0A%20%20%20%20%20%20%20%20%0A%0A%20%20%20%20%20%20%20%20marker_ccb9aa355af347daa9fab1c9bb6da8e8.bindPopup%28popup_e2ab74496ce2454a91b70ac1da48b7dd%29%0A%20%20%20%20%20%20%20%20%3B%0A%0A%20%20%20%20%20%20%20%20%0A%20%20%20%20%0A%20%20%20%20%0A%20%20%20%20%20%20%20%20%20%20%20%20var%20marker_f1f257a978784b769ac131605809e0fd%20%3D%20L.marker%28%0A%20%20%20%20%20%20%20%20%20%20%20%20%20%20%20%20%5B36.16298%2C%20-86.78184%5D%2C%0A%20%20%20%20%20%20%20%20%20%20%20%20%20%20%20%20%7B%7D%0A%20%20%20%20%20%20%20%20%20%20%20%20%29.addTo%28map_9c6de01c7e04426cbe9be807a5d2d16f%29%3B%0A%20%20%20%20%20%20%20%20%0A%20%20%20%20%0A%20%20%20%20%20%20%20%20%20%20%20%20var%20icon_9f904b83143746fabf2dc9566dc27387%20%3D%20L.AwesomeMarkers.icon%28%0A%20%20%20%20%20%20%20%20%20%20%20%20%20%20%20%20%7B%22extraClasses%22%3A%20%22fa-rotate-0%22%2C%20%22icon%22%3A%20%22paint-brush%22%2C%20%22iconColor%22%3A%20%22white%22%2C%20%22markerColor%22%3A%20%22red%22%2C%20%22prefix%22%3A%20%22fa%22%7D%0A%20%20%20%20%20%20%20%20%20%20%20%20%29%3B%0A%20%20%20%20%20%20%20%20%20%20%20%20marker_f1f257a978784b769ac131605809e0fd.setIcon%28icon_9f904b83143746fabf2dc9566dc27387%29%3B%0A%20%20%20%20%20%20%20%20%0A%20%20%20%20%0A%20%20%20%20%20%20%20%20var%20popup_4f6bbc58e1be434e9cc8b704d9e33fc2%20%3D%20L.popup%28%7B%22maxWidth%22%3A%20%22100%25%22%7D%29%3B%0A%0A%20%20%20%20%20%20%20%20%0A%20%20%20%20%20%20%20%20%20%20%20%20var%20html_836914c5a089420ca389c60908c19fa5%20%3D%20%24%28%60%3Cdiv%20id%3D%22html_836914c5a089420ca389c60908c19fa5%22%20style%3D%22width%3A%20100.0%25%3B%20height%3A%20100.0%25%3B%22%3E%28%27Gone%20Fishing%27%2C%20%22Trompe%20L%27oeil%20painting%20of%20man%20fishing%20over%20a%20balcony.%22%29%3C/div%3E%60%29%5B0%5D%3B%0A%20%20%20%20%20%20%20%20%20%20%20%20popup_4f6bbc58e1be434e9cc8b704d9e33fc2.setContent%28html_836914c5a089420ca389c60908c19fa5%29%3B%0A%20%20%20%20%20%20%20%20%0A%0A%20%20%20%20%20%20%20%20marker_f1f257a978784b769ac131605809e0fd.bindPopup%28popup_4f6bbc58e1be434e9cc8b704d9e33fc2%29%0A%20%20%20%20%20%20%20%20%3B%0A%0A%20%20%20%20%20%20%20%20%0A%20%20%20%20%0A%20%20%20%20%0A%20%20%20%20%20%20%20%20%20%20%20%20var%20marker_61102560d1524b4baf944cd5fdd6dbff%20%3D%20L.marker%28%0A%20%20%20%20%20%20%20%20%20%20%20%20%20%20%20%20%5B36.164813%2C%20-86.781138%5D%2C%0A%20%20%20%20%20%20%20%20%20%20%20%20%20%20%20%20%7B%7D%0A%20%20%20%20%20%20%20%20%20%20%20%20%29.addTo%28map_9c6de01c7e04426cbe9be807a5d2d16f%29%3B%0A%20%20%20%20%20%20%20%20%0A%20%20%20%20%0A%20%20%20%20%20%20%20%20%20%20%20%20var%20icon_83d8d7cb9b334a31bedbf24d8f2cf384%20%3D%20L.AwesomeMarkers.icon%28%0A%20%20%20%20%20%20%20%20%20%20%20%20%20%20%20%20%7B%22extraClasses%22%3A%20%22fa-rotate-0%22%2C%20%22icon%22%3A%20%22paint-brush%22%2C%20%22iconColor%22%3A%20%22white%22%2C%20%22markerColor%22%3A%20%22red%22%2C%20%22prefix%22%3A%20%22fa%22%7D%0A%20%20%20%20%20%20%20%20%20%20%20%20%29%3B%0A%20%20%20%20%20%20%20%20%20%20%20%20marker_61102560d1524b4baf944cd5fdd6dbff.setIcon%28icon_83d8d7cb9b334a31bedbf24d8f2cf384%29%3B%0A%20%20%20%20%20%20%20%20%0A%20%20%20%20%0A%20%20%20%20%20%20%20%20var%20popup_9f04296ec91c490d81bfd8c3090e5091%20%3D%20L.popup%28%7B%22maxWidth%22%3A%20%22100%25%22%7D%29%3B%0A%0A%20%20%20%20%20%20%20%20%0A%20%20%20%20%20%20%20%20%20%20%20%20var%20html_e248c2d7c87145ad93ac0225406fc1cb%20%3D%20%24%28%60%3Cdiv%20id%3D%22html_e248c2d7c87145ad93ac0225406fc1cb%22%20style%3D%22width%3A%20100.0%25%3B%20height%3A%20100.0%25%3B%22%3E%28%27As%20Long%20As%20The%20Grass%20Shall%20Grow%27%2C%20%27nan%27%29%3C/div%3E%60%29%5B0%5D%3B%0A%20%20%20%20%20%20%20%20%20%20%20%20popup_9f04296ec91c490d81bfd8c3090e5091.setContent%28html_e248c2d7c87145ad93ac0225406fc1cb%29%3B%0A%20%20%20%20%20%20%20%20%0A%0A%20%20%20%20%20%20%20%20marker_61102560d1524b4baf944cd5fdd6dbff.bindPopup%28popup_9f04296ec91c490d81bfd8c3090e5091%29%0A%20%20%20%20%20%20%20%20%3B%0A%0A%20%20%20%20%20%20%20%20%0A%20%20%20%20%0A%20%20%20%20%0A%20%20%20%20%20%20%20%20%20%20%20%20var%20marker_9ab01749346448ef8b2d5bf27be781b7%20%3D%20L.marker%28%0A%20%20%20%20%20%20%20%20%20%20%20%20%20%20%20%20%5B36.16732%2C%20-86.78365%5D%2C%0A%20%20%20%20%20%20%20%20%20%20%20%20%20%20%20%20%7B%7D%0A%20%20%20%20%20%20%20%20%20%20%20%20%29.addTo%28map_9c6de01c7e04426cbe9be807a5d2d16f%29%3B%0A%20%20%20%20%20%20%20%20%0A%20%20%20%20%0A%20%20%20%20%20%20%20%20%20%20%20%20var%20icon_933ade5d0cee49b0b09dd886603a211b%20%3D%20L.AwesomeMarkers.icon%28%0A%20%20%20%20%20%20%20%20%20%20%20%20%20%20%20%20%7B%22extraClasses%22%3A%20%22fa-rotate-0%22%2C%20%22icon%22%3A%20%22paint-brush%22%2C%20%22iconColor%22%3A%20%22white%22%2C%20%22markerColor%22%3A%20%22red%22%2C%20%22prefix%22%3A%20%22fa%22%7D%0A%20%20%20%20%20%20%20%20%20%20%20%20%29%3B%0A%20%20%20%20%20%20%20%20%20%20%20%20marker_9ab01749346448ef8b2d5bf27be781b7.setIcon%28icon_933ade5d0cee49b0b09dd886603a211b%29%3B%0A%20%20%20%20%20%20%20%20%0A%20%20%20%20%0A%20%20%20%20%20%20%20%20var%20popup_bc688fd4f0c4431e961c4ab93f0a7412%20%3D%20L.popup%28%7B%22maxWidth%22%3A%20%22100%25%22%7D%29%3B%0A%0A%20%20%20%20%20%20%20%20%0A%20%20%20%20%20%20%20%20%20%20%20%20var%20html_dea40cfacbf54b1a9dcf69f553832072%20%3D%20%24%28%60%3Cdiv%20id%3D%22html_dea40cfacbf54b1a9dcf69f553832072%22%20style%3D%22width%3A%20100.0%25%3B%20height%3A%20100.0%25%3B%22%3E%28%27The%20Three%20Graces%27%2C%20%27A%20depictionof%20three%20standing%20nude%20female%20figures.%20The%20figures%20are%20simplified%20and%20are%20all%20interconnected%20to%20form%20a%20solid%20columnar%20shape.%20The%20sculpture%20rests%20on%20a%20rectangular%20base.%27%29%3C/div%3E%60%29%5B0%5D%3B%0A%20%20%20%20%20%20%20%20%20%20%20%20popup_bc688fd4f0c4431e961c4ab93f0a7412.setContent%28html_dea40cfacbf54b1a9dcf69f553832072%29%3B%0A%20%20%20%20%20%20%20%20%0A%0A%20%20%20%20%20%20%20%20marker_9ab01749346448ef8b2d5bf27be781b7.bindPopup%28popup_bc688fd4f0c4431e961c4ab93f0a7412%29%0A%20%20%20%20%20%20%20%20%3B%0A%0A%20%20%20%20%20%20%20%20%0A%20%20%20%20%0A%20%20%20%20%0A%20%20%20%20%20%20%20%20%20%20%20%20var%20marker_617bb24e2d904b06a617268d058fda34%20%3D%20L.marker%28%0A%20%20%20%20%20%20%20%20%20%20%20%20%20%20%20%20%5B36.16607%2C%20-86.78455%5D%2C%0A%20%20%20%20%20%20%20%20%20%20%20%20%20%20%20%20%7B%7D%0A%20%20%20%20%20%20%20%20%20%20%20%20%29.addTo%28map_9c6de01c7e04426cbe9be807a5d2d16f%29%3B%0A%20%20%20%20%20%20%20%20%0A%20%20%20%20%0A%20%20%20%20%20%20%20%20%20%20%20%20var%20icon_e8a7297b446e47899c10024aea875a63%20%3D%20L.AwesomeMarkers.icon%28%0A%20%20%20%20%20%20%20%20%20%20%20%20%20%20%20%20%7B%22extraClasses%22%3A%20%22fa-rotate-0%22%2C%20%22icon%22%3A%20%22paint-brush%22%2C%20%22iconColor%22%3A%20%22white%22%2C%20%22markerColor%22%3A%20%22red%22%2C%20%22prefix%22%3A%20%22fa%22%7D%0A%20%20%20%20%20%20%20%20%20%20%20%20%29%3B%0A%20%20%20%20%20%20%20%20%20%20%20%20marker_617bb24e2d904b06a617268d058fda34.setIcon%28icon_e8a7297b446e47899c10024aea875a63%29%3B%0A%20%20%20%20%20%20%20%20%0A%20%20%20%20%0A%20%20%20%20%20%20%20%20var%20popup_18306418e0534748ba8868ed5836babc%20%3D%20L.popup%28%7B%22maxWidth%22%3A%20%22100%25%22%7D%29%3B%0A%0A%20%20%20%20%20%20%20%20%0A%20%20%20%20%20%20%20%20%20%20%20%20var%20html_9530a308f2c84f66801fbb71f633e112%20%3D%20%24%28%60%3Cdiv%20id%3D%22html_9530a308f2c84f66801fbb71f633e112%22%20style%3D%22width%3A%20100.0%25%3B%20height%3A%20100.0%25%3B%22%3E%28%27Discovery%20of%20Tennessee/%20Developemnt%20of%20Tennessee%27%2C%20%27Dean%20Cornwell%20%281892-1960%29%20from%20Louisville%2C%20Ky.%20began%20his%20career%20as%20an%20illustrator%20for%20many%20national%20magazines.%20In%20Tennessee%2C%20Cornwell%20is%20best%20known%20for%20murals%20created%20for%20the%20Davidson%20County%20Courthouse%20in%201937%20and%20for%20the%20Sevier%20State%20Office%20Building%20in%201941%2C%20both%20funded%20by%20Public%20Works%20Administration%20during%20the%20New%20Deal%20era.%20The%20Discovery%20of%20Tennessee%20depicts%20early%20Tennessee%20history%20with%20John%20Sevier%20dressed%20in%20his%20Revolutionary%20War%20uniform%20beside%20a%20thirteen-star%20American%20flag.%20One%20the%20opposite%20wall%2C%20Andrew%20Jackson%20is%20surrounded%20by%20figures%20from%20nineteenth%20and%20early-twentieth%20century%20in%20The%20Development%20of%20Tennessee.%27%29%3C/div%3E%60%29%5B0%5D%3B%0A%20%20%20%20%20%20%20%20%20%20%20%20popup_18306418e0534748ba8868ed5836babc.setContent%28html_9530a308f2c84f66801fbb71f633e112%29%3B%0A%20%20%20%20%20%20%20%20%0A%0A%20%20%20%20%20%20%20%20marker_617bb24e2d904b06a617268d058fda34.bindPopup%28popup_18306418e0534748ba8868ed5836babc%29%0A%20%20%20%20%20%20%20%20%3B%0A%0A%20%20%20%20%20%20%20%20%0A%20%20%20%20%0A%20%20%20%20%0A%20%20%20%20%20%20%20%20%20%20%20%20var%20marker_01c7642d910f4b17aa98bf7339464c3a%20%3D%20L.marker%28%0A%20%20%20%20%20%20%20%20%20%20%20%20%20%20%20%20%5B36.16702%2C%20-86.78343%5D%2C%0A%20%20%20%20%20%20%20%20%20%20%20%20%20%20%20%20%7B%7D%0A%20%20%20%20%20%20%20%20%20%20%20%20%29.addTo%28map_9c6de01c7e04426cbe9be807a5d2d16f%29%3B%0A%20%20%20%20%20%20%20%20%0A%20%20%20%20%0A%20%20%20%20%20%20%20%20%20%20%20%20var%20icon_9da1220b87e14fc2a475f1d9c47c110c%20%3D%20L.AwesomeMarkers.icon%28%0A%20%20%20%20%20%20%20%20%20%20%20%20%20%20%20%20%7B%22extraClasses%22%3A%20%22fa-rotate-0%22%2C%20%22icon%22%3A%20%22paint-brush%22%2C%20%22iconColor%22%3A%20%22white%22%2C%20%22markerColor%22%3A%20%22red%22%2C%20%22prefix%22%3A%20%22fa%22%7D%0A%20%20%20%20%20%20%20%20%20%20%20%20%29%3B%0A%20%20%20%20%20%20%20%20%20%20%20%20marker_01c7642d910f4b17aa98bf7339464c3a.setIcon%28icon_9da1220b87e14fc2a475f1d9c47c110c%29%3B%0A%20%20%20%20%20%20%20%20%0A%20%20%20%20%0A%20%20%20%20%20%20%20%20var%20popup_11eac70b40444cd2b438a84970bea858%20%3D%20L.popup%28%7B%22maxWidth%22%3A%20%22100%25%22%7D%29%3B%0A%0A%20%20%20%20%20%20%20%20%0A%20%20%20%20%20%20%20%20%20%20%20%20var%20html_3405d3d0a378469287600b5d737a253e%20%3D%20%24%28%60%3Cdiv%20id%3D%22html_3405d3d0a378469287600b5d737a253e%22%20style%3D%22width%3A%20100.0%25%3B%20height%3A%20100.0%25%3B%22%3E%28%27Soldier%20and%20Farmer%20-%20The%20Equestrian%20Group%27%2C%20%22A%20soldier%20in%20a%20uniform%20on%20a%20horse%20looking%20down%20at%20a%20farmer%20standing%20to%20his%20proper%20right.%20The%20farmer%20wears%20overalls%2C%20a%20shirt%20with%20a%20collar%20and%20rolled%20up%20sleeves%2C%20and%20knee-high%20boots.%20The%20soldier%20wears%20a%20double-breasted%20jacket%20with%20a%20belt%2C%20gloves%20and%20a%20beard%20and%20moustache.%20He%20is%20turned%20to%20the%20proper%20left%20and%20looks%20down%20at%20the%20farmer.%20His%20proper%20right%20hand%20is%20on%20the%20back%20of%20the%20horse%20and%20his%20proper%20left%20hand%20holds%20the%20horse%27s%20reins.%20The%20%20horse%20looks%20straight%20ahead.%20The%20figure%20group%20stands%20on%20flat%20plinth%20on%20a%20stone%20base%20attached%20to%20the%20building.%22%29%3C/div%3E%60%29%5B0%5D%3B%0A%20%20%20%20%20%20%20%20%20%20%20%20popup_11eac70b40444cd2b438a84970bea858.setContent%28html_3405d3d0a378469287600b5d737a253e%29%3B%0A%20%20%20%20%20%20%20%20%0A%0A%20%20%20%20%20%20%20%20marker_01c7642d910f4b17aa98bf7339464c3a.bindPopup%28popup_11eac70b40444cd2b438a84970bea858%29%0A%20%20%20%20%20%20%20%20%3B%0A%0A%20%20%20%20%20%20%20%20%0A%20%20%20%20%0A%20%20%20%20%0A%20%20%20%20%20%20%20%20%20%20%20%20var%20marker_792d2f2b5eb146cdb0748bf4e3a9861e%20%3D%20L.marker%28%0A%20%20%20%20%20%20%20%20%20%20%20%20%20%20%20%20%5B36.17317%2C%20-86.78512%5D%2C%0A%20%20%20%20%20%20%20%20%20%20%20%20%20%20%20%20%7B%7D%0A%20%20%20%20%20%20%20%20%20%20%20%20%29.addTo%28map_9c6de01c7e04426cbe9be807a5d2d16f%29%3B%0A%20%20%20%20%20%20%20%20%0A%20%20%20%20%0A%20%20%20%20%20%20%20%20%20%20%20%20var%20icon_ffafd285d0ac4dbb97454a344b1f9f4f%20%3D%20L.AwesomeMarkers.icon%28%0A%20%20%20%20%20%20%20%20%20%20%20%20%20%20%20%20%7B%22extraClasses%22%3A%20%22fa-rotate-0%22%2C%20%22icon%22%3A%20%22paint-brush%22%2C%20%22iconColor%22%3A%20%22white%22%2C%20%22markerColor%22%3A%20%22red%22%2C%20%22prefix%22%3A%20%22fa%22%7D%0A%20%20%20%20%20%20%20%20%20%20%20%20%29%3B%0A%20%20%20%20%20%20%20%20%20%20%20%20marker_792d2f2b5eb146cdb0748bf4e3a9861e.setIcon%28icon_ffafd285d0ac4dbb97454a344b1f9f4f%29%3B%0A%20%20%20%20%20%20%20%20%0A%20%20%20%20%0A%20%20%20%20%20%20%20%20var%20popup_58aaeff58c304a24a8100f829050bc15%20%3D%20L.popup%28%7B%22maxWidth%22%3A%20%22100%25%22%7D%29%3B%0A%0A%20%20%20%20%20%20%20%20%0A%20%20%20%20%20%20%20%20%20%20%20%20var%20html_e22f0c1a9fe64e858dad5fcbc3856242%20%3D%20%24%28%60%3Cdiv%20id%3D%22html_e22f0c1a9fe64e858dad5fcbc3856242%22%20style%3D%22width%3A%20100.0%25%3B%20height%3A%20100.0%25%3B%22%3E%28%27First%20Tennessee%20Park%20Mural%27%2C%20%27nan%27%29%3C/div%3E%60%29%5B0%5D%3B%0A%20%20%20%20%20%20%20%20%20%20%20%20popup_58aaeff58c304a24a8100f829050bc15.setContent%28html_e22f0c1a9fe64e858dad5fcbc3856242%29%3B%0A%20%20%20%20%20%20%20%20%0A%0A%20%20%20%20%20%20%20%20marker_792d2f2b5eb146cdb0748bf4e3a9861e.bindPopup%28popup_58aaeff58c304a24a8100f829050bc15%29%0A%20%20%20%20%20%20%20%20%3B%0A%0A%20%20%20%20%20%20%20%20%0A%20%20%20%20%0A%20%20%20%20%0A%20%20%20%20%20%20%20%20%20%20%20%20var%20marker_abbf284144f74980b1be87cf12663d92%20%3D%20L.marker%28%0A%20%20%20%20%20%20%20%20%20%20%20%20%20%20%20%20%5B36.16215%2C%20-86.78205%5D%2C%0A%20%20%20%20%20%20%20%20%20%20%20%20%20%20%20%20%7B%7D%0A%20%20%20%20%20%20%20%20%20%20%20%20%29.addTo%28map_9c6de01c7e04426cbe9be807a5d2d16f%29%3B%0A%20%20%20%20%20%20%20%20%0A%20%20%20%20%0A%20%20%20%20%20%20%20%20%20%20%20%20var%20icon_64719b3059dd471785ebea38013f168d%20%3D%20L.AwesomeMarkers.icon%28%0A%20%20%20%20%20%20%20%20%20%20%20%20%20%20%20%20%7B%22extraClasses%22%3A%20%22fa-rotate-0%22%2C%20%22icon%22%3A%20%22paint-brush%22%2C%20%22iconColor%22%3A%20%22white%22%2C%20%22markerColor%22%3A%20%22red%22%2C%20%22prefix%22%3A%20%22fa%22%7D%0A%20%20%20%20%20%20%20%20%20%20%20%20%29%3B%0A%20%20%20%20%20%20%20%20%20%20%20%20marker_abbf284144f74980b1be87cf12663d92.setIcon%28icon_64719b3059dd471785ebea38013f168d%29%3B%0A%20%20%20%20%20%20%20%20%0A%20%20%20%20%0A%20%20%20%20%20%20%20%20var%20popup_d1004393928c453aa34363c3adfef3c6%20%3D%20L.popup%28%7B%22maxWidth%22%3A%20%22100%25%22%7D%29%3B%0A%0A%20%20%20%20%20%20%20%20%0A%20%20%20%20%20%20%20%20%20%20%20%20var%20html_0c48b3638b9141e19e51b85ecae84b61%20%3D%20%24%28%60%3Cdiv%20id%3D%22html_0c48b3638b9141e19e51b85ecae84b61%22%20style%3D%22width%3A%20100.0%25%3B%20height%3A%20100.0%25%3B%22%3E%28%27A%20Story%20of%20Nashville%27%2C%20%22Located%20inside%20the%20Grand%20Reading%20Room%2C%20this%20series%20of%2080%20hammered%20copper%20panels%20within%20the%20top%20of%20the%20book%20stacks%20tells%20a%20linear%20story%20of%20Nashville%27s%20history%20from%20its%20pre-settlement%20period%20to%20present%20day.%22%29%3C/div%3E%60%29%5B0%5D%3B%0A%20%20%20%20%20%20%20%20%20%20%20%20popup_d1004393928c453aa34363c3adfef3c6.setContent%28html_0c48b3638b9141e19e51b85ecae84b61%29%3B%0A%20%20%20%20%20%20%20%20%0A%0A%20%20%20%20%20%20%20%20marker_abbf284144f74980b1be87cf12663d92.bindPopup%28popup_d1004393928c453aa34363c3adfef3c6%29%0A%20%20%20%20%20%20%20%20%3B%0A%0A%20%20%20%20%20%20%20%20%0A%20%20%20%20%0A%20%20%20%20%0A%20%20%20%20%20%20%20%20%20%20%20%20var%20marker_ac5cb405d4444b9b9004e8641a71fe97%20%3D%20L.marker%28%0A%20%20%20%20%20%20%20%20%20%20%20%20%20%20%20%20%5B36.1647%2C%20-86.78043%5D%2C%0A%20%20%20%20%20%20%20%20%20%20%20%20%20%20%20%20%7B%7D%0A%20%20%20%20%20%20%20%20%20%20%20%20%29.addTo%28map_9c6de01c7e04426cbe9be807a5d2d16f%29%3B%0A%20%20%20%20%20%20%20%20%0A%20%20%20%20%0A%20%20%20%20%20%20%20%20%20%20%20%20var%20icon_6fb4ac83800e41c1994a85590a63333b%20%3D%20L.AwesomeMarkers.icon%28%0A%20%20%20%20%20%20%20%20%20%20%20%20%20%20%20%20%7B%22extraClasses%22%3A%20%22fa-rotate-0%22%2C%20%22icon%22%3A%20%22paint-brush%22%2C%20%22iconColor%22%3A%20%22white%22%2C%20%22markerColor%22%3A%20%22red%22%2C%20%22prefix%22%3A%20%22fa%22%7D%0A%20%20%20%20%20%20%20%20%20%20%20%20%29%3B%0A%20%20%20%20%20%20%20%20%20%20%20%20marker_ac5cb405d4444b9b9004e8641a71fe97.setIcon%28icon_6fb4ac83800e41c1994a85590a63333b%29%3B%0A%20%20%20%20%20%20%20%20%0A%20%20%20%20%0A%20%20%20%20%20%20%20%20var%20popup_ecfe68759c96413e977e4b6612c1bbf0%20%3D%20L.popup%28%7B%22maxWidth%22%3A%20%22100%25%22%7D%29%3B%0A%0A%20%20%20%20%20%20%20%20%0A%20%20%20%20%20%20%20%20%20%20%20%20var%20html_02e6955866d64940b04a0307e836588b%20%3D%20%24%28%60%3Cdiv%20id%3D%22html_02e6955866d64940b04a0307e836588b%22%20style%3D%22width%3A%20100.0%25%3B%20height%3A%20100.0%25%3B%22%3E%28%27Happy%20Times%20at%20The%20Arcade%27%2C%20%22Trompe%20L%27oeil%20artwork%20celebrating%20The%20Arcade.%22%29%3C/div%3E%60%29%5B0%5D%3B%0A%20%20%20%20%20%20%20%20%20%20%20%20popup_ecfe68759c96413e977e4b6612c1bbf0.setContent%28html_02e6955866d64940b04a0307e836588b%29%3B%0A%20%20%20%20%20%20%20%20%0A%0A%20%20%20%20%20%20%20%20marker_ac5cb405d4444b9b9004e8641a71fe97.bindPopup%28popup_ecfe68759c96413e977e4b6612c1bbf0%29%0A%20%20%20%20%20%20%20%20%3B%0A%0A%20%20%20%20%20%20%20%20%0A%20%20%20%20%0A%20%20%20%20%0A%20%20%20%20%20%20%20%20%20%20%20%20var%20marker_7cb7847a3f454883877d073fc51f96e0%20%3D%20L.marker%28%0A%20%20%20%20%20%20%20%20%20%20%20%20%20%20%20%20%5B36.16215%2C%20-86.78205%5D%2C%0A%20%20%20%20%20%20%20%20%20%20%20%20%20%20%20%20%7B%7D%0A%20%20%20%20%20%20%20%20%20%20%20%20%29.addTo%28map_9c6de01c7e04426cbe9be807a5d2d16f%29%3B%0A%20%20%20%20%20%20%20%20%0A%20%20%20%20%0A%20%20%20%20%20%20%20%20%20%20%20%20var%20icon_cf62653c2aee4fd8bf44332af25a5fe3%20%3D%20L.AwesomeMarkers.icon%28%0A%20%20%20%20%20%20%20%20%20%20%20%20%20%20%20%20%7B%22extraClasses%22%3A%20%22fa-rotate-0%22%2C%20%22icon%22%3A%20%22paint-brush%22%2C%20%22iconColor%22%3A%20%22white%22%2C%20%22markerColor%22%3A%20%22red%22%2C%20%22prefix%22%3A%20%22fa%22%7D%0A%20%20%20%20%20%20%20%20%20%20%20%20%29%3B%0A%20%20%20%20%20%20%20%20%20%20%20%20marker_7cb7847a3f454883877d073fc51f96e0.setIcon%28icon_cf62653c2aee4fd8bf44332af25a5fe3%29%3B%0A%20%20%20%20%20%20%20%20%0A%20%20%20%20%0A%20%20%20%20%20%20%20%20var%20popup_dd417a93e2f54c518d036e13f7d3ee51%20%3D%20L.popup%28%7B%22maxWidth%22%3A%20%22100%25%22%7D%29%3B%0A%0A%20%20%20%20%20%20%20%20%0A%20%20%20%20%20%20%20%20%20%20%20%20var%20html_c40a9e5ab88f4b2f9d92194aa9118874%20%3D%20%24%28%60%3Cdiv%20id%3D%22html_c40a9e5ab88f4b2f9d92194aa9118874%22%20style%3D%22width%3A%20100.0%25%3B%20height%3A%20100.0%25%3B%22%3E%28%27The%20Prince%27%2C%20%27Outlaw%20hung%20a%20whimsical%20mobile%20under%20a%20painting%20of%20a%20spiral%20galaxy.%20Two%20characters%20hang%20from%20either%20end%3A%20the%20Little%20Prince%20and%20the%20businessman.%20%20At%20the%20Prince%5C%27s%20end%2C%20colored%20glass%20stars%20twirl%20around%20a%20small%2C%20finely%20embroidered%2C%20white%20silk%20sculpture%20of%20a%20boy%20%28the%20prince%29.%20%20On%20the%20other%20end%2C%20a%20large%2C%20white%20man%5C%27s%20suit%20sits%20at%20a%20table.%20%20A%20st%20of%20star%5C%27s%20twinkles%20behind%20his%20back.%20%20The%20man%20would%20not%20recognize%20the%20little%20prince%5C%27s%20drawing%20as%20a%20boa%20constrictor%20swallowing%20a%20snake%20but%20would%20only%20see%20a%20hat.%20%20Outlaw%20Drew%20from%20Antoine%20de%20Saint-Exupery%5C%27s%20%22The%20Little%20Prince%22%20to%20address%20her%20theme%20%22What%20is%20essential%20is%20invisible%20to%20the%20eye.%22%27%29%3C/div%3E%60%29%5B0%5D%3B%0A%20%20%20%20%20%20%20%20%20%20%20%20popup_dd417a93e2f54c518d036e13f7d3ee51.setContent%28html_c40a9e5ab88f4b2f9d92194aa9118874%29%3B%0A%20%20%20%20%20%20%20%20%0A%0A%20%20%20%20%20%20%20%20marker_7cb7847a3f454883877d073fc51f96e0.bindPopup%28popup_dd417a93e2f54c518d036e13f7d3ee51%29%0A%20%20%20%20%20%20%20%20%3B%0A%0A%20%20%20%20%20%20%20%20%0A%20%20%20%20%0A%20%20%20%20%0A%20%20%20%20%20%20%20%20%20%20%20%20var%20marker_c94c24cfc6b74302b0dde28dd5b157ba%20%3D%20L.marker%28%0A%20%20%20%20%20%20%20%20%20%20%20%20%20%20%20%20%5B36.1651%2C%20-86.78427%5D%2C%0A%20%20%20%20%20%20%20%20%20%20%20%20%20%20%20%20%7B%7D%0A%20%20%20%20%20%20%20%20%20%20%20%20%29.addTo%28map_9c6de01c7e04426cbe9be807a5d2d16f%29%3B%0A%20%20%20%20%20%20%20%20%0A%20%20%20%20%0A%20%20%20%20%20%20%20%20%20%20%20%20var%20icon_73428a45918c47c894e214825b3a88d6%20%3D%20L.AwesomeMarkers.icon%28%0A%20%20%20%20%20%20%20%20%20%20%20%20%20%20%20%20%7B%22extraClasses%22%3A%20%22fa-rotate-0%22%2C%20%22icon%22%3A%20%22paint-brush%22%2C%20%22iconColor%22%3A%20%22white%22%2C%20%22markerColor%22%3A%20%22red%22%2C%20%22prefix%22%3A%20%22fa%22%7D%0A%20%20%20%20%20%20%20%20%20%20%20%20%29%3B%0A%20%20%20%20%20%20%20%20%20%20%20%20marker_c94c24cfc6b74302b0dde28dd5b157ba.setIcon%28icon_73428a45918c47c894e214825b3a88d6%29%3B%0A%20%20%20%20%20%20%20%20%0A%20%20%20%20%0A%20%20%20%20%20%20%20%20var%20popup_0b5f5f2302fb4dc39f983e10b17ce1d1%20%3D%20L.popup%28%7B%22maxWidth%22%3A%20%22100%25%22%7D%29%3B%0A%0A%20%20%20%20%20%20%20%20%0A%20%20%20%20%20%20%20%20%20%20%20%20var%20html_8cb42c66f40e4b208d7c076ea5961d73%20%3D%20%24%28%60%3Cdiv%20id%3D%22html_8cb42c66f40e4b208d7c076ea5961d73%22%20style%3D%22width%3A%20100.0%25%3B%20height%3A%20100.0%25%3B%22%3E%28%27Sam%20Davis%20of%20Tennessee%27%2C%20%27George%20Julian%20Zolnay%20%281863-1949%29%2C%20originally%20from%20Hungary%2C%20first%20came%20to%20the%20United%20States%20to%20attend%20the%201893%20World%E2%80%99s%20Columbian%20Exposition%20in%20Chicago.%20Making%20his%20way%20to%20Nashville%2C%20he%20helped%20create%20the%20pediment%20sculptures%20for%20the%20full-scale%20Parthenon%20replica%20at%20the%201897%20Tennessee%20Centennial%20Exposition.%20Zolnay%20is%20responsible%20for%20many%20Confederate%20memorials%20and%20was%20given%20the%20title%20%22Sculptor%20of%20the%20Confederacy.%E2%80%9D%20Because%20no%20pictures%20of%20Sam%20Davis%20existed%2C%20Zolnay%20based%20the%20likeness%20on%20Davis%5C%27%20relatives.%20It%20was%20cast%20in%20bronze%20by%20Roman%20Bronze%20Works%20in%20New%20York.%27%29%3C/div%3E%60%29%5B0%5D%3B%0A%20%20%20%20%20%20%20%20%20%20%20%20popup_0b5f5f2302fb4dc39f983e10b17ce1d1.setContent%28html_8cb42c66f40e4b208d7c076ea5961d73%29%3B%0A%20%20%20%20%20%20%20%20%0A%0A%20%20%20%20%20%20%20%20marker_c94c24cfc6b74302b0dde28dd5b157ba.bindPopup%28popup_0b5f5f2302fb4dc39f983e10b17ce1d1%29%0A%20%20%20%20%20%20%20%20%3B%0A%0A%20%20%20%20%20%20%20%20%0A%20%20%20%20%0A%20%20%20%20%0A%20%20%20%20%20%20%20%20%20%20%20%20var%20marker_e41a62d9cbb2465f80be5ac83b01ea45%20%3D%20L.marker%28%0A%20%20%20%20%20%20%20%20%20%20%20%20%20%20%20%20%5B36.16414%2C%20-86.78289%5D%2C%0A%20%20%20%20%20%20%20%20%20%20%20%20%20%20%20%20%7B%7D%0A%20%20%20%20%20%20%20%20%20%20%20%20%29.addTo%28map_9c6de01c7e04426cbe9be807a5d2d16f%29%3B%0A%20%20%20%20%20%20%20%20%0A%20%20%20%20%0A%20%20%20%20%20%20%20%20%20%20%20%20var%20icon_9c13e93cd93441e9843f40fc273aff66%20%3D%20L.AwesomeMarkers.icon%28%0A%20%20%20%20%20%20%20%20%20%20%20%20%20%20%20%20%7B%22extraClasses%22%3A%20%22fa-rotate-0%22%2C%20%22icon%22%3A%20%22paint-brush%22%2C%20%22iconColor%22%3A%20%22white%22%2C%20%22markerColor%22%3A%20%22red%22%2C%20%22prefix%22%3A%20%22fa%22%7D%0A%20%20%20%20%20%20%20%20%20%20%20%20%29%3B%0A%20%20%20%20%20%20%20%20%20%20%20%20marker_e41a62d9cbb2465f80be5ac83b01ea45.setIcon%28icon_9c13e93cd93441e9843f40fc273aff66%29%3B%0A%20%20%20%20%20%20%20%20%0A%20%20%20%20%0A%20%20%20%20%20%20%20%20var%20popup_41f7da0d12db41a1a859dae1c3aa5ae4%20%3D%20L.popup%28%7B%22maxWidth%22%3A%20%22100%25%22%7D%29%3B%0A%0A%20%20%20%20%20%20%20%20%0A%20%20%20%20%20%20%20%20%20%20%20%20var%20html_77434ba48dd8434a91dfa26a25524462%20%3D%20%24%28%60%3Cdiv%20id%3D%22html_77434ba48dd8434a91dfa26a25524462%22%20style%3D%22width%3A%20100.0%25%3B%20height%3A%20100.0%25%3B%22%3E%28%27Tennessee%20Korean%20War%20Memorial%27%2C%20%27The%20843%20Tennesseans%2C%20including%203%20Medal%20of%20Honor%20recipients%2C%20are%20honored%20on%20this%20memorial.%20A%20wall%20of%20black%20granite%20plaques%20lists%20the%20names%20of%20each%20of%20the%20fallen.%20In%20the%20center%20is%20a%20black%20granite%20slab%20with%20a%20map%20of%20the%20Korean%20peninsula%20and%20placed%20in%20front%20of%20the%20map%20are%20two%20life-size%20statues%20of%20fighting%20men%2C%20a%20downed%20pilot%20with%20his%20pistol%20drawn%20and%20an%20infantryman%20armed%20with%20a%20rifle.%27%29%3C/div%3E%60%29%5B0%5D%3B%0A%20%20%20%20%20%20%20%20%20%20%20%20popup_41f7da0d12db41a1a859dae1c3aa5ae4.setContent%28html_77434ba48dd8434a91dfa26a25524462%29%3B%0A%20%20%20%20%20%20%20%20%0A%0A%20%20%20%20%20%20%20%20marker_e41a62d9cbb2465f80be5ac83b01ea45.bindPopup%28popup_41f7da0d12db41a1a859dae1c3aa5ae4%29%0A%20%20%20%20%20%20%20%20%3B%0A%0A%20%20%20%20%20%20%20%20%0A%20%20%20%20%0A%3C/script%3E onload=\"this.contentDocument.open();this.contentDocument.write(    decodeURIComponent(this.getAttribute('data-html')));this.contentDocument.close();\" allowfullscreen webkitallowfullscreen mozallowfullscreen></iframe></div></div>"
      ],
      "text/plain": [
       "<folium.folium.Map at 0x225a4291af0>"
      ]
     },
     "execution_count": 86,
     "metadata": {},
     "output_type": "execute_result"
    }
   ],
   "source": [
    "map_37219 = folium.Map(location =  area_center, zoom_start = 12)\n",
    "\n",
    "folium.GeoJson(polygon37219).add_to(map_37219)\n",
    "\n",
    "for row_index, row_values in art_in_37219.iterrows():\n",
    "    loc = [row_values['Latitude'], row_values['Longitude']]\n",
    "    pop = str(row_values['Title']), str(row_values['Description'])\n",
    "    icon=folium.Icon(color=\"red\",icon=\"paint-brush\", prefix='fa')\n",
    "    \n",
    "    marker = folium.Marker(\n",
    "        location = loc, \n",
    "        popup = pop, icon = icon) \n",
    "\n",
    "    marker.add_to(map_37219)\n",
    "map_37219.save('../maps/map37219.html')\n",
    "\n",
    "#display our map\n",
    "map_37219"
   ]
  },
  {
   "cell_type": "code",
   "execution_count": null,
   "id": "30be99aa",
   "metadata": {},
   "outputs": [],
   "source": []
  }
 ],
 "metadata": {
  "kernelspec": {
   "display_name": "Python 3 (ipykernel)",
   "language": "python",
   "name": "python3"
  },
  "language_info": {
   "codemirror_mode": {
    "name": "ipython",
    "version": 3
   },
   "file_extension": ".py",
   "mimetype": "text/x-python",
   "name": "python",
   "nbconvert_exporter": "python",
   "pygments_lexer": "ipython3",
   "version": "3.8.5"
  }
 },
 "nbformat": 4,
 "nbformat_minor": 5
}
